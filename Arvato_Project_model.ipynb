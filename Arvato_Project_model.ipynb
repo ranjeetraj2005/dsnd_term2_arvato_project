{
 "cells": [
  {
   "cell_type": "markdown",
   "metadata": {},
   "source": [
    "# Capstone Project: Create a Customer Segmentation Report for Arvato Financial Services\n",
    "\n",
    "In this project, you will analyze demographics data for customers of a mail-order sales company in Germany, comparing it against demographics information for the general population. You'll use unsupervised learning techniques to perform customer segmentation, identifying the parts of the population that best describe the core customer base of the company. Then, you'll apply what you've learned on a third dataset with demographics information for targets of a marketing campaign for the company, and use a model to predict which individuals are most likely to convert into becoming customers for the company. The data that you will use has been provided by our partners at Bertelsmann Arvato Analytics, and represents a real-life data science task.\n",
    "\n",
    "If you completed the first term of this program, you will be familiar with the first part of this project, from the unsupervised learning project. The versions of those two datasets used in this project will include many more features and has not been pre-cleaned. You are also free to choose whatever approach you'd like to analyzing the data rather than follow pre-determined steps. In your work on this project, make sure that you carefully document your steps and decisions, since your main deliverable for this project will be a blog post reporting your findings."
   ]
  },
  {
   "cell_type": "code",
   "execution_count": 2,
   "metadata": {},
   "outputs": [],
   "source": [
    "# import libraries here; add more as necessary\n",
    "import numpy as np\n",
    "import pandas as pd\n",
    "import matplotlib.pyplot as plt\n",
    "import seaborn as sns\n",
    "\n",
    "# magic word for producing visualizations in notebook\n",
    "%matplotlib inline"
   ]
  },
  {
   "cell_type": "code",
   "execution_count": 3,
   "metadata": {},
   "outputs": [],
   "source": [
    "from sklearn.preprocessing import StandardScaler, MinMaxScaler\n",
    "\n",
    "from sklearn.model_selection import train_test_split\n",
    "from sklearn.model_selection import StratifiedKFold\n",
    "from sklearn.model_selection import GridSearchCV\n",
    "\n",
    "from sklearn.decomposition import PCA\n",
    "from sklearn.preprocessing import Imputer\n",
    "from sklearn.cluster import KMeans\n",
    "from sklearn.cluster import DBSCAN\n",
    "from sklearn.cluster import MeanShift\n",
    "\n",
    "from sklearn.ensemble import AdaBoostRegressor # Adaptive Boosting\n",
    "from sklearn.ensemble import GradientBoostingRegressor # Gradient Tree Boosting\n",
    "\n",
    "\n",
    "from sklearn.metrics import roc_auc_score, fbeta_score, accuracy_score, precision_score, recall_score\n",
    "\n",
    "from scipy import stats\n",
    "from time import time"
   ]
  },
  {
   "cell_type": "code",
   "execution_count": 4,
   "metadata": {},
   "outputs": [],
   "source": [
    "!pip install xgboost"
   ]
  },
  {
   "cell_type": "code",
   "execution_count": 6,
   "metadata": {},
   "outputs": [],
   "source": [
    "from xgboost.sklearn import XGBRegressor # Extreme Gradient Boosting\n",
    "import xgboost as xgb"
   ]
  },
  {
   "cell_type": "code",
   "execution_count": 7,
   "metadata": {},
   "outputs": [
    {
     "name": "stdout",
     "output_type": "stream",
     "text": [
      "\n",
      "The following command must be run outside of the IPython shell:\n",
      "\n",
      "    $ pip freeze > requeriments.txt\n",
      "\n",
      "The Python package manager (pip) can only be used from outside of IPython.\n",
      "Please reissue the `pip` command in a separate terminal or command prompt.\n",
      "\n",
      "See the Python documentation for more information on how to install packages:\n",
      "\n",
      "    https://docs.python.org/3/installing/\n"
     ]
    }
   ],
   "source": [
    "pip freeze > requeriments.txt"
   ]
  },
  {
   "cell_type": "markdown",
   "metadata": {},
   "source": [
    "## Part 0: Get to Know the Data\n",
    "\n",
    "There are four data files associated with this project:\n",
    "\n",
    "- `Udacity_AZDIAS_052018.csv`: Demographics data for the general population of Germany; 891 211 persons (rows) x 366 features (columns).\n",
    "- `Udacity_CUSTOMERS_052018.csv`: Demographics data for customers of a mail-order company; 191 652 persons (rows) x 369 features (columns).\n",
    "- `Udacity_MAILOUT_052018_TRAIN.csv`: Demographics data for individuals who were targets of a marketing campaign; 42 982 persons (rows) x 367 (columns).\n",
    "- `Udacity_MAILOUT_052018_TEST.csv`: Demographics data for individuals who were targets of a marketing campaign; 42 833 persons (rows) x 366 (columns).\n",
    "\n",
    "Each row of the demographics files represents a single person, but also includes information outside of individuals, including information about their household, building, and neighborhood. Use the information from the first two files to figure out how customers (\"CUSTOMERS\") are similar to or differ from the general population at large (\"AZDIAS\"), then use your analysis to make predictions on the other two files (\"MAILOUT\"), predicting which recipients are most likely to become a customer for the mail-order company.\n",
    "\n",
    "The \"CUSTOMERS\" file contains three extra columns ('CUSTOMER_GROUP', 'ONLINE_PURCHASE', and 'PRODUCT_GROUP'), which provide broad information about the customers depicted in the file. The original \"MAILOUT\" file included one additional column, \"RESPONSE\", which indicated whether or not each recipient became a customer of the company. For the \"TRAIN\" subset, this column has been retained, but in the \"TEST\" subset it has been removed; it is against that withheld column that your final predictions will be assessed in the Kaggle competition.\n",
    "\n",
    "Otherwise, all of the remaining columns are the same between the three data files. For more information about the columns depicted in the files, you can refer to two Excel spreadsheets provided in the workspace. [One of them](./DIAS Information Levels - Attributes 2017.xlsx) is a top-level list of attributes and descriptions, organized by informational category. [The other](./DIAS Attributes - Values 2017.xlsx) is a detailed mapping of data values for each feature in alphabetical order.\n",
    "\n",
    "In the below cell, we've provided some initial code to load in the first two datasets. Note for all of the `.csv` data files in this project that they're semicolon (`;`) delimited, so an additional argument in the [`read_csv()`](https://pandas.pydata.org/pandas-docs/stable/generated/pandas.read_csv.html) call has been included to read in the data properly. Also, considering the size of the datasets, it may take some time for them to load completely.\n",
    "\n",
    "You'll notice when the data is loaded in that a warning message will immediately pop up. Before you really start digging into the modeling and analysis, you're going to need to perform some cleaning. Take some time to browse the structure of the data and look over the informational spreadsheets to understand the data values. Make some decisions on which features to keep, which features to drop, and if any revisions need to be made on data formats. It'll be a good idea to create a function with pre-processing steps, since you'll need to clean all of the datasets before you work with them."
   ]
  },
  {
   "cell_type": "code",
   "execution_count": null,
   "metadata": {},
   "outputs": [],
   "source": []
  },
  {
   "cell_type": "code",
   "execution_count": 4,
   "metadata": {},
   "outputs": [
    {
     "name": "stderr",
     "output_type": "stream",
     "text": [
      "/opt/conda/lib/python3.6/site-packages/IPython/core/magics/execution.py:1237: DtypeWarning: Columns (18,19) have mixed types. Specify dtype option on import or set low_memory=False.\n",
      "  exec(code, glob, local_ns)\n"
     ]
    },
    {
     "name": "stdout",
     "output_type": "stream",
     "text": [
      "CPU times: user 34.8 s, sys: 18.2 s, total: 53 s\n",
      "Wall time: 3min 51s\n"
     ]
    }
   ],
   "source": [
    "%%time\n",
    "# load in the data\n",
    "chunksize = 50000\n",
    "\n",
    "chunk_file = pd.read_csv('../../data/Term2/capstone/arvato_data/Udacity_AZDIAS_052018.csv', sep=';', chunksize=chunksize, iterator=True)\n",
    "azdias = pd.concat(chunk_file, ignore_index=True)"
   ]
  },
  {
   "cell_type": "code",
   "execution_count": 5,
   "metadata": {},
   "outputs": [
    {
     "name": "stderr",
     "output_type": "stream",
     "text": [
      "/opt/conda/lib/python3.6/site-packages/IPython/core/magics/execution.py:1237: DtypeWarning: Columns (18,19) have mixed types. Specify dtype option on import or set low_memory=False.\n",
      "  exec(code, glob, local_ns)\n"
     ]
    },
    {
     "name": "stdout",
     "output_type": "stream",
     "text": [
      "CPU times: user 7.49 s, sys: 1.16 s, total: 8.65 s\n",
      "Wall time: 14.7 s\n"
     ]
    }
   ],
   "source": [
    "%%time\n",
    "chunksize = 50000\n",
    "\n",
    "chunk_file = pd.read_csv('../../data/Term2/capstone/arvato_data/Udacity_CUSTOMERS_052018.csv', sep=';', chunksize=chunksize, iterator=True)\n",
    "customers = pd.concat(chunk_file, ignore_index=True)"
   ]
  },
  {
   "cell_type": "code",
   "execution_count": 12,
   "metadata": {},
   "outputs": [],
   "source": [
    "# Be sure to add in a lot more cells (both markdown and code) to document your\n",
    "# approach and findings!"
   ]
  },
  {
   "cell_type": "code",
   "execution_count": 13,
   "metadata": {},
   "outputs": [],
   "source": [
    "#azdias.describe()"
   ]
  },
  {
   "cell_type": "code",
   "execution_count": 14,
   "metadata": {},
   "outputs": [
    {
     "name": "stdout",
     "output_type": "stream",
     "text": [
      "<class 'pandas.core.frame.DataFrame'>\n",
      "RangeIndex: 891221 entries, 0 to 891220\n",
      "Columns: 366 entries, LNR to ALTERSKATEGORIE_GROB\n",
      "dtypes: float64(267), int64(93), object(6)\n",
      "memory usage: 2.4+ GB\n"
     ]
    }
   ],
   "source": [
    "azdias.info()"
   ]
  },
  {
   "cell_type": "code",
   "execution_count": 15,
   "metadata": {},
   "outputs": [],
   "source": [
    "#customers.describe()"
   ]
  },
  {
   "cell_type": "code",
   "execution_count": 16,
   "metadata": {},
   "outputs": [
    {
     "name": "stdout",
     "output_type": "stream",
     "text": [
      "<class 'pandas.core.frame.DataFrame'>\n",
      "RangeIndex: 191652 entries, 0 to 191651\n",
      "Columns: 369 entries, LNR to ALTERSKATEGORIE_GROB\n",
      "dtypes: float64(267), int64(94), object(8)\n",
      "memory usage: 539.5+ MB\n"
     ]
    }
   ],
   "source": [
    "customers.info()"
   ]
  },
  {
   "cell_type": "code",
   "execution_count": 17,
   "metadata": {},
   "outputs": [
    {
     "data": {
      "text/html": [
       "<div>\n",
       "<style scoped>\n",
       "    .dataframe tbody tr th:only-of-type {\n",
       "        vertical-align: middle;\n",
       "    }\n",
       "\n",
       "    .dataframe tbody tr th {\n",
       "        vertical-align: top;\n",
       "    }\n",
       "\n",
       "    .dataframe thead th {\n",
       "        text-align: right;\n",
       "    }\n",
       "</style>\n",
       "<table border=\"1\" class=\"dataframe\">\n",
       "  <thead>\n",
       "    <tr style=\"text-align: right;\">\n",
       "      <th></th>\n",
       "      <th>LNR</th>\n",
       "      <th>AGER_TYP</th>\n",
       "      <th>AKT_DAT_KL</th>\n",
       "      <th>ALTER_HH</th>\n",
       "      <th>ALTER_KIND1</th>\n",
       "      <th>ALTER_KIND2</th>\n",
       "      <th>ALTER_KIND3</th>\n",
       "      <th>ALTER_KIND4</th>\n",
       "      <th>ALTERSKATEGORIE_FEIN</th>\n",
       "      <th>ANZ_HAUSHALTE_AKTIV</th>\n",
       "      <th>...</th>\n",
       "      <th>VK_ZG11</th>\n",
       "      <th>W_KEIT_KIND_HH</th>\n",
       "      <th>WOHNDAUER_2008</th>\n",
       "      <th>WOHNLAGE</th>\n",
       "      <th>ZABEOTYP</th>\n",
       "      <th>PRODUCT_GROUP</th>\n",
       "      <th>CUSTOMER_GROUP</th>\n",
       "      <th>ONLINE_PURCHASE</th>\n",
       "      <th>ANREDE_KZ</th>\n",
       "      <th>ALTERSKATEGORIE_GROB</th>\n",
       "    </tr>\n",
       "  </thead>\n",
       "  <tbody>\n",
       "    <tr>\n",
       "      <th>0</th>\n",
       "      <td>9626</td>\n",
       "      <td>2</td>\n",
       "      <td>1.0</td>\n",
       "      <td>10.0</td>\n",
       "      <td>NaN</td>\n",
       "      <td>NaN</td>\n",
       "      <td>NaN</td>\n",
       "      <td>NaN</td>\n",
       "      <td>10.0</td>\n",
       "      <td>1.0</td>\n",
       "      <td>...</td>\n",
       "      <td>2.0</td>\n",
       "      <td>6.0</td>\n",
       "      <td>9.0</td>\n",
       "      <td>7.0</td>\n",
       "      <td>3</td>\n",
       "      <td>COSMETIC_AND_FOOD</td>\n",
       "      <td>MULTI_BUYER</td>\n",
       "      <td>0</td>\n",
       "      <td>1</td>\n",
       "      <td>4</td>\n",
       "    </tr>\n",
       "    <tr>\n",
       "      <th>1</th>\n",
       "      <td>9628</td>\n",
       "      <td>-1</td>\n",
       "      <td>9.0</td>\n",
       "      <td>11.0</td>\n",
       "      <td>NaN</td>\n",
       "      <td>NaN</td>\n",
       "      <td>NaN</td>\n",
       "      <td>NaN</td>\n",
       "      <td>NaN</td>\n",
       "      <td>NaN</td>\n",
       "      <td>...</td>\n",
       "      <td>3.0</td>\n",
       "      <td>0.0</td>\n",
       "      <td>9.0</td>\n",
       "      <td>NaN</td>\n",
       "      <td>3</td>\n",
       "      <td>FOOD</td>\n",
       "      <td>SINGLE_BUYER</td>\n",
       "      <td>0</td>\n",
       "      <td>1</td>\n",
       "      <td>4</td>\n",
       "    </tr>\n",
       "    <tr>\n",
       "      <th>2</th>\n",
       "      <td>143872</td>\n",
       "      <td>-1</td>\n",
       "      <td>1.0</td>\n",
       "      <td>6.0</td>\n",
       "      <td>NaN</td>\n",
       "      <td>NaN</td>\n",
       "      <td>NaN</td>\n",
       "      <td>NaN</td>\n",
       "      <td>0.0</td>\n",
       "      <td>1.0</td>\n",
       "      <td>...</td>\n",
       "      <td>11.0</td>\n",
       "      <td>6.0</td>\n",
       "      <td>9.0</td>\n",
       "      <td>2.0</td>\n",
       "      <td>3</td>\n",
       "      <td>COSMETIC_AND_FOOD</td>\n",
       "      <td>MULTI_BUYER</td>\n",
       "      <td>0</td>\n",
       "      <td>2</td>\n",
       "      <td>4</td>\n",
       "    </tr>\n",
       "    <tr>\n",
       "      <th>3</th>\n",
       "      <td>143873</td>\n",
       "      <td>1</td>\n",
       "      <td>1.0</td>\n",
       "      <td>8.0</td>\n",
       "      <td>NaN</td>\n",
       "      <td>NaN</td>\n",
       "      <td>NaN</td>\n",
       "      <td>NaN</td>\n",
       "      <td>8.0</td>\n",
       "      <td>0.0</td>\n",
       "      <td>...</td>\n",
       "      <td>2.0</td>\n",
       "      <td>NaN</td>\n",
       "      <td>9.0</td>\n",
       "      <td>7.0</td>\n",
       "      <td>1</td>\n",
       "      <td>COSMETIC</td>\n",
       "      <td>MULTI_BUYER</td>\n",
       "      <td>0</td>\n",
       "      <td>1</td>\n",
       "      <td>4</td>\n",
       "    </tr>\n",
       "    <tr>\n",
       "      <th>4</th>\n",
       "      <td>143874</td>\n",
       "      <td>-1</td>\n",
       "      <td>1.0</td>\n",
       "      <td>20.0</td>\n",
       "      <td>NaN</td>\n",
       "      <td>NaN</td>\n",
       "      <td>NaN</td>\n",
       "      <td>NaN</td>\n",
       "      <td>14.0</td>\n",
       "      <td>7.0</td>\n",
       "      <td>...</td>\n",
       "      <td>4.0</td>\n",
       "      <td>2.0</td>\n",
       "      <td>9.0</td>\n",
       "      <td>3.0</td>\n",
       "      <td>1</td>\n",
       "      <td>FOOD</td>\n",
       "      <td>MULTI_BUYER</td>\n",
       "      <td>0</td>\n",
       "      <td>1</td>\n",
       "      <td>3</td>\n",
       "    </tr>\n",
       "  </tbody>\n",
       "</table>\n",
       "<p>5 rows × 369 columns</p>\n",
       "</div>"
      ],
      "text/plain": [
       "      LNR  AGER_TYP  AKT_DAT_KL  ALTER_HH  ALTER_KIND1  ALTER_KIND2  \\\n",
       "0    9626         2         1.0      10.0          NaN          NaN   \n",
       "1    9628        -1         9.0      11.0          NaN          NaN   \n",
       "2  143872        -1         1.0       6.0          NaN          NaN   \n",
       "3  143873         1         1.0       8.0          NaN          NaN   \n",
       "4  143874        -1         1.0      20.0          NaN          NaN   \n",
       "\n",
       "   ALTER_KIND3  ALTER_KIND4  ALTERSKATEGORIE_FEIN  ANZ_HAUSHALTE_AKTIV  \\\n",
       "0          NaN          NaN                  10.0                  1.0   \n",
       "1          NaN          NaN                   NaN                  NaN   \n",
       "2          NaN          NaN                   0.0                  1.0   \n",
       "3          NaN          NaN                   8.0                  0.0   \n",
       "4          NaN          NaN                  14.0                  7.0   \n",
       "\n",
       "          ...           VK_ZG11  W_KEIT_KIND_HH  WOHNDAUER_2008  WOHNLAGE  \\\n",
       "0         ...               2.0             6.0             9.0       7.0   \n",
       "1         ...               3.0             0.0             9.0       NaN   \n",
       "2         ...              11.0             6.0             9.0       2.0   \n",
       "3         ...               2.0             NaN             9.0       7.0   \n",
       "4         ...               4.0             2.0             9.0       3.0   \n",
       "\n",
       "   ZABEOTYP      PRODUCT_GROUP  CUSTOMER_GROUP ONLINE_PURCHASE ANREDE_KZ  \\\n",
       "0         3  COSMETIC_AND_FOOD     MULTI_BUYER               0         1   \n",
       "1         3               FOOD    SINGLE_BUYER               0         1   \n",
       "2         3  COSMETIC_AND_FOOD     MULTI_BUYER               0         2   \n",
       "3         1           COSMETIC     MULTI_BUYER               0         1   \n",
       "4         1               FOOD     MULTI_BUYER               0         1   \n",
       "\n",
       "  ALTERSKATEGORIE_GROB  \n",
       "0                    4  \n",
       "1                    4  \n",
       "2                    4  \n",
       "3                    4  \n",
       "4                    3  \n",
       "\n",
       "[5 rows x 369 columns]"
      ]
     },
     "execution_count": 17,
     "metadata": {},
     "output_type": "execute_result"
    }
   ],
   "source": [
    "customers.head()"
   ]
  },
  {
   "cell_type": "code",
   "execution_count": 18,
   "metadata": {},
   "outputs": [],
   "source": [
    "#customers.describe()"
   ]
  },
  {
   "cell_type": "code",
   "execution_count": 19,
   "metadata": {},
   "outputs": [
    {
     "name": "stdout",
     "output_type": "stream",
     "text": [
      "total null azdias: LNR                                0\n",
      "AGER_TYP                           0\n",
      "AKT_DAT_KL                     73499\n",
      "ALTER_HH                       73499\n",
      "ALTER_KIND1                   810163\n",
      "ALTER_KIND2                   861722\n",
      "ALTER_KIND3                   885051\n",
      "ALTER_KIND4                   890016\n",
      "ALTERSKATEGORIE_FEIN          262947\n",
      "ANZ_HAUSHALTE_AKTIV            93148\n",
      "ANZ_HH_TITEL                   97008\n",
      "ANZ_KINDER                     73499\n",
      "ANZ_PERSONEN                   73499\n",
      "ANZ_STATISTISCHE_HAUSHALTE     93148\n",
      "ANZ_TITEL                      73499\n",
      "ARBEIT                         97216\n",
      "BALLRAUM                       93740\n",
      "CAMEO_DEU_2015                 98979\n",
      "CAMEO_DEUG_2015                98979\n",
      "CAMEO_INTL_2015                98979\n",
      "CJT_GESAMTTYP                   4854\n",
      "CJT_KATALOGNUTZER               4854\n",
      "CJT_TYP_1                       4854\n",
      "CJT_TYP_2                       4854\n",
      "CJT_TYP_3                       4854\n",
      "CJT_TYP_4                       4854\n",
      "CJT_TYP_5                       4854\n",
      "CJT_TYP_6                       4854\n",
      "D19_BANKEN_ANZ_12                  0\n",
      "D19_BANKEN_ANZ_24                  0\n",
      "                               ...  \n",
      "SEMIO_KRIT                         0\n",
      "SEMIO_KULT                         0\n",
      "SEMIO_LUST                         0\n",
      "SEMIO_MAT                          0\n",
      "SEMIO_PFLICHT                      0\n",
      "SEMIO_RAT                          0\n",
      "SEMIO_REL                          0\n",
      "SEMIO_SOZ                          0\n",
      "SEMIO_TRADV                        0\n",
      "SEMIO_VERT                         0\n",
      "SHOPPER_TYP                        0\n",
      "SOHO_KZ                        73499\n",
      "STRUKTURTYP                    97274\n",
      "TITEL_KZ                       73499\n",
      "UMFELD_ALT                     97786\n",
      "UMFELD_JUNG                    97786\n",
      "UNGLEICHENN_FLAG               73499\n",
      "VERDICHTUNGSRAUM               97274\n",
      "VERS_TYP                           0\n",
      "VHA                            73499\n",
      "VHN                           121196\n",
      "VK_DHT4A                       75917\n",
      "VK_DISTANZ                     75917\n",
      "VK_ZG11                        75917\n",
      "W_KEIT_KIND_HH                107602\n",
      "WOHNDAUER_2008                 73499\n",
      "WOHNLAGE                       93148\n",
      "ZABEOTYP                           0\n",
      "ANREDE_KZ                          0\n",
      "ALTERSKATEGORIE_GROB               0\n",
      "Length: 366, dtype: int64\n",
      "total null % azdias: LNR                            0.000000\n",
      "AGER_TYP                       0.000000\n",
      "AKT_DAT_KL                     8.247000\n",
      "ALTER_HH                       8.247000\n",
      "ALTER_KIND1                   90.904837\n",
      "ALTER_KIND2                   96.690047\n",
      "ALTER_KIND3                   99.307691\n",
      "ALTER_KIND4                   99.864792\n",
      "ALTERSKATEGORIE_FEIN          29.504130\n",
      "ANZ_HAUSHALTE_AKTIV           10.451729\n",
      "ANZ_HH_TITEL                  10.884842\n",
      "ANZ_KINDER                     8.247000\n",
      "ANZ_PERSONEN                   8.247000\n",
      "ANZ_STATISTISCHE_HAUSHALTE    10.451729\n",
      "ANZ_TITEL                      8.247000\n",
      "ARBEIT                        10.908181\n",
      "BALLRAUM                      10.518154\n",
      "CAMEO_DEU_2015                11.106000\n",
      "CAMEO_DEUG_2015               11.106000\n",
      "CAMEO_INTL_2015               11.106000\n",
      "CJT_GESAMTTYP                  0.544646\n",
      "CJT_KATALOGNUTZER              0.544646\n",
      "CJT_TYP_1                      0.544646\n",
      "CJT_TYP_2                      0.544646\n",
      "CJT_TYP_3                      0.544646\n",
      "CJT_TYP_4                      0.544646\n",
      "CJT_TYP_5                      0.544646\n",
      "CJT_TYP_6                      0.544646\n",
      "D19_BANKEN_ANZ_12              0.000000\n",
      "D19_BANKEN_ANZ_24              0.000000\n",
      "                                ...    \n",
      "SEMIO_KRIT                     0.000000\n",
      "SEMIO_KULT                     0.000000\n",
      "SEMIO_LUST                     0.000000\n",
      "SEMIO_MAT                      0.000000\n",
      "SEMIO_PFLICHT                  0.000000\n",
      "SEMIO_RAT                      0.000000\n",
      "SEMIO_REL                      0.000000\n",
      "SEMIO_SOZ                      0.000000\n",
      "SEMIO_TRADV                    0.000000\n",
      "SEMIO_VERT                     0.000000\n",
      "SHOPPER_TYP                    0.000000\n",
      "SOHO_KZ                        8.247000\n",
      "STRUKTURTYP                   10.914689\n",
      "TITEL_KZ                       8.247000\n",
      "UMFELD_ALT                    10.972138\n",
      "UMFELD_JUNG                   10.972138\n",
      "UNGLEICHENN_FLAG               8.247000\n",
      "VERDICHTUNGSRAUM              10.914689\n",
      "VERS_TYP                       0.000000\n",
      "VHA                            8.247000\n",
      "VHN                           13.598872\n",
      "VK_DHT4A                       8.518314\n",
      "VK_DISTANZ                     8.518314\n",
      "VK_ZG11                        8.518314\n",
      "W_KEIT_KIND_HH                12.073549\n",
      "WOHNDAUER_2008                 8.247000\n",
      "WOHNLAGE                      10.451729\n",
      "ZABEOTYP                       0.000000\n",
      "ANREDE_KZ                      0.000000\n",
      "ALTERSKATEGORIE_GROB           0.000000\n",
      "Length: 366, dtype: float64\n"
     ]
    }
   ],
   "source": [
    "# find number of missing/null data in azdias\n",
    "azdias_null = azdias.isnull().sum()\n",
    "print('total null azdias:', azdias_null)\n",
    "azdias_null_percent = azdias_null / len(azdias) * 100\n",
    "print('total null % azdias:', azdias_null_percent)"
   ]
  },
  {
   "cell_type": "code",
   "execution_count": 20,
   "metadata": {},
   "outputs": [
    {
     "data": {
      "text/plain": [
       "<matplotlib.axes._subplots.AxesSubplot at 0x7f9f674c08d0>"
      ]
     },
     "execution_count": 20,
     "metadata": {},
     "output_type": "execute_result"
    },
    {
     "data": {
      "image/png": "[encoded data removed]",
      "text/plain": [
       "<matplotlib.figure.Figure at 0x7f9f674b6cc0>"
      ]
     },
     "metadata": {
      "needs_background": "light"
     },
     "output_type": "display_data"
    }
   ],
   "source": [
    "# visualise natually missing data\n",
    "(azdias_null.sort_values(ascending=False)[:10].plot(kind='bar', figsize=(20,8), fontsize=10))"
   ]
  },
  {
   "cell_type": "code",
   "execution_count": 21,
   "metadata": {},
   "outputs": [
    {
     "data": {
      "image/png": "[encoded data removed]",
      "text/plain": [
       "<matplotlib.figure.Figure at 0x7f9f6717e518>"
      ]
     },
     "metadata": {
      "needs_background": "light"
     },
     "output_type": "display_data"
    }
   ],
   "source": [
    "# get dstirbution of empty data in fields by percentage\n",
    "plt.figure(figsize=(10,5))\n",
    "plt.hist(azdias_null_percent, bins = np.linspace(10,100,19), facecolor='b', alpha=0.75)\n",
    "\n",
    "\n",
    "plt.xlabel('% of missing value')\n",
    "plt.ylabel('# of Columns')\n",
    "plt.title('Distribution of missing data in each column')\n",
    "plt.grid(True)\n",
    "\n",
    "plt.show()\n",
    "\n",
    "# % of missing data in columns\n",
    "#print('% of missing data in columns','\\n',azdias_null_percent.sort_values(ascending=False))\n"
   ]
  },
  {
   "cell_type": "code",
   "execution_count": 22,
   "metadata": {},
   "outputs": [],
   "source": [
    "# above we have already identified %  of nan/null values columnwise\n",
    "# let's visualise the distribution trend \n",
    "column_nans = azdias.isnull().mean()"
   ]
  },
  {
   "cell_type": "code",
   "execution_count": 23,
   "metadata": {},
   "outputs": [
    {
     "data": {
      "text/plain": [
       "Text(0.5,0,'prop. of missing values')"
      ]
     },
     "execution_count": 23,
     "metadata": {},
     "output_type": "execute_result"
    },
    {
     "data": {
      "image/png": "[encoded data removed]",
      "text/plain": [
       "<matplotlib.figure.Figure at 0x7f9fa4e2a4a8>"
      ]
     },
     "metadata": {
      "needs_background": "light"
     },
     "output_type": "display_data"
    }
   ],
   "source": [
    "\n",
    "\n",
    "plt.hist(column_nans, bins = np.arange(0,1+.05,.05))\n",
    "plt.ylabel('# of features')\n",
    "plt.xlabel('prop. of missing values')"
   ]
  },
  {
   "cell_type": "code",
   "execution_count": 24,
   "metadata": {},
   "outputs": [
    {
     "name": "stdout",
     "output_type": "stream",
     "text": [
      "columns having  missing values >0% :  273\n",
      "columns having  missing values >10%:  237\n",
      "columns having  missing values >20%:  16\n",
      "columns having  missing values >30%:  6\n",
      "columns having  missing values >40%:  6\n",
      "columns having  missing values >60%:  6\n",
      "columns having  missing values >65%:  6\n",
      "columns having  missing values >80%:  4\n",
      "columns having  missing values >90%:  4\n"
     ]
    }
   ],
   "source": [
    "# From review of data in last 2 cells, we can find that % of null data in columns ranges from 0.* to 17% \n",
    "# but after that there is drastic difference in % of null fields clearly highlighting outliers. \n",
    "# Let's print missing % distribution manually to understand if outlier is evidently visible or further analysis/deep dive required\n",
    "print('columns having  missing values >0% : ',len(azdias_null_percent[azdias_null_percent>0].index))\n",
    "\n",
    "print('columns having  missing values >10%: ',len(azdias_null_percent[azdias_null_percent>10].index))\n",
    "print('columns having  missing values >20%: ',len(azdias_null_percent[azdias_null_percent>20].index))\n",
    "print('columns having  missing values >30%: ',len(azdias_null_percent[azdias_null_percent>30].index))\n",
    "print('columns having  missing values >40%: ',len(azdias_null_percent[azdias_null_percent>40].index))\n",
    "print('columns having  missing values >60%: ',len(azdias_null_percent[azdias_null_percent>60].index))\n",
    "print('columns having  missing values >65%: ',len(azdias_null_percent[azdias_null_percent>65].index))\n",
    "print('columns having  missing values >80%: ',len(azdias_null_percent[azdias_null_percent>80].index))\n",
    "print('columns having  missing values >90%: ',len(azdias_null_percent[azdias_null_percent>90].index))"
   ]
  },
  {
   "cell_type": "code",
   "execution_count": 25,
   "metadata": {},
   "outputs": [
    {
     "data": {
      "text/plain": [
       "Text(0.5,0,'# of missing values')"
      ]
     },
     "execution_count": 25,
     "metadata": {},
     "output_type": "execute_result"
    },
    {
     "data": {
      "image/png": "[encoded data removed]",
      "text/plain": [
       "<matplotlib.figure.Figure at 0x7f9f671db470>"
      ]
     },
     "metadata": {
      "needs_background": "light"
     },
     "output_type": "display_data"
    }
   ],
   "source": [
    "# distribution analysis on row level\n",
    "\n",
    "row_nans = azdias.isnull().sum(axis=1)\n",
    "plt.hist(row_nans, bins = np.arange(-0.5,row_nans.max()+1,1))\n",
    "plt.yticks(np.arange(0,300000+100000,100000),['0','100k','200k','300k'])\n",
    "plt.ylabel('# of data points')\n",
    "plt.xlabel('# of missing values')"
   ]
  },
  {
   "cell_type": "code",
   "execution_count": 26,
   "metadata": {},
   "outputs": [
    {
     "data": {
      "text/plain": [
       "Text(0.5,0,'# of missing values')"
      ]
     },
     "execution_count": 26,
     "metadata": {},
     "output_type": "execute_result"
    },
    {
     "data": {
      "image/png": "[encoded data removed]",
      "text/plain": [
       "<matplotlib.figure.Figure at 0x7f9f6704acc0>"
      ]
     },
     "metadata": {
      "needs_background": "light"
     },
     "output_type": "display_data"
    }
   ],
   "source": [
    "# as 0 has most of the data, we are unable to see rest of the trend in detail. So plotting distribution without 0 missin values\n",
    "# from below chart we can that around 9ish trend starts changing.\n",
    "\n",
    "row_nans = azdias[azdias.isnull().sum(axis=1) > 0].isnull().sum(axis=1)\n",
    "plt.hist(row_nans, bins = np.arange(-0.5,row_nans.max()+1,1))\n",
    "plt.ylabel('# of data points')\n",
    "plt.xlabel('# of missing values')"
   ]
  },
  {
   "cell_type": "code",
   "execution_count": 27,
   "metadata": {},
   "outputs": [
    {
     "name": "stdout",
     "output_type": "stream",
     "text": [
      "Percentage of data kept: 0      0.0\n",
      "1      0.0\n",
      "2      1.0\n",
      "3      3.0\n",
      "4     17.0\n",
      "5     38.0\n",
      "6     56.0\n",
      "7     62.0\n",
      "8     63.0\n",
      "9     64.0\n",
      "10    64.0\n",
      "11    64.0\n",
      "12    65.0\n",
      "13    65.0\n",
      "14    65.0\n",
      "15    73.0\n",
      "16    82.0\n",
      "17    83.0\n",
      "18    83.0\n",
      "19    83.0\n",
      "20    84.0\n",
      "21    84.0\n",
      "22    84.0\n",
      "23    84.0\n",
      "24    84.0\n",
      "25    84.0\n",
      "26    84.0\n",
      "27    84.0\n",
      "28    84.0\n",
      "29    84.0\n",
      "dtype: float64\n"
     ]
    }
   ],
   "source": [
    "# let's see this in a slightly different way.\n",
    "# Calculate percentage of data kept for rows with * or less missing data points\n",
    "# from below we can see that % of data kept for rows with various number of missing data points (in asc order)\n",
    "# from this we can see that around 16% this more or less stagnates and increase in number of columns does not directly increase % of data kept.\n",
    "# so we will use this as an indicator to help us choose the threshold limit.\n",
    "\n",
    "print(\"Percentage of data kept:\",round(azdias.isnull().sum(axis=1).value_counts().sort_index().cumsum()[:30]/azdias.isnull().sum(axis=1).shape[0]*100,0))"
   ]
  },
  {
   "cell_type": "code",
   "execution_count": 28,
   "metadata": {},
   "outputs": [],
   "source": [
    "azdias_bkp = azdias\n",
    "customers_bkp = customers"
   ]
  },
  {
   "cell_type": "markdown",
   "metadata": {},
   "source": [
    "## Data Preprocessing"
   ]
  },
  {
   "cell_type": "code",
   "execution_count": 8,
   "metadata": {},
   "outputs": [],
   "source": [
    "def data_pre_processing(df, for_clustering, df_name=None):\n",
    "    \n",
    "    if for_clustering:\n",
    "        if df_name == 'azdias':\n",
    "            df = df[df.isnull().sum(axis=1) <= 16].reset_index(drop=True)\n",
    "        elif df_name == 'customers':            \n",
    "            df.drop(columns=['CUSTOMER_GROUP', 'ONLINE_PURCHASE', 'PRODUCT_GROUP'], inplace=True)\n",
    "        \n",
    "    #column_nans = df.isnull().mean()\n",
    "    drop_cols = ['ALTER_KIND1', 'ALTER_KIND2', 'ALTER_KIND3', 'ALTER_KIND4', 'EXTSEL992','KK_KUNDENTYP']\n",
    "    \n",
    "    df = df.drop(drop_cols,axis=1)\n",
    "    df = df.drop(['EINGEFUEGT_AM'],axis=1)\n",
    "    df = df.drop(['D19_LETZTER_KAUF_BRANCHE'],axis=1)\n",
    "\n",
    "\n",
    "    # find correlation matrix    \n",
    "    corr_matrix = df.corr().abs()\n",
    "    upper_limit = corr_matrix.where(np.triu(np.ones(corr_matrix.shape), k=1).astype(np.bool))\n",
    "    # identify columns to drop based on threshold limit\n",
    "    drop_columns = [column for column in upper_limit.columns if any(upper_limit[column] > .7)]\n",
    "    # drop columns from df\n",
    "    df = df.drop(drop_columns, axis=1)\n",
    "    print('shape after corr', df.shape)\n",
    "\n",
    "\n",
    "    # we need to fill missing values here. We will fill missing values with -1 indicating unknown as in the description.\n",
    "    df[['CAMEO_DEUG_2015','CAMEO_INTL_2015']] = df[['CAMEO_DEUG_2015','CAMEO_INTL_2015']].replace(['X','XX'],-1)\n",
    "    df[['CAMEO_DEUG_2015','CAMEO_INTL_2015']] = df[['CAMEO_DEUG_2015','CAMEO_INTL_2015']].fillna(-1)\n",
    "    df[['CAMEO_DEUG_2015','CAMEO_INTL_2015']] = df[['CAMEO_DEUG_2015','CAMEO_INTL_2015']].astype(int)\n",
    "    df[['CAMEO_DEU_2015','OST_WEST_KZ']]=df[['CAMEO_DEU_2015','OST_WEST_KZ']].fillna(-1)\n",
    "\n",
    "\n",
    "\n",
    "    # fillna with 9 for fields that has 9 marked as unknown\n",
    "    df[df.columns[(df==9).any()]] = df[df.columns[(df==9).any()]].fillna(9)\n",
    "\n",
    "    # fillna with 0 for fields that has 0 marked as unknown\n",
    "    df[df.columns[(df==0).any()]] = df[df.columns[(df==0).any()]].fillna(0)\n",
    "\n",
    "    # fillna with -1 for fields that has 0 marked as unknown\n",
    "    df[df.columns[(df==-1).any()]] = df[df.columns[(df==-1).any()]].fillna(-1)\n",
    "\n",
    "\n",
    "    \n",
    "    #print('col name before: ', df.columns)\n",
    "    #with  all null data now handled, we should focus on getting objects/categorical variables to numbers via one hot encoding\n",
    "    df = pd.get_dummies(df)\n",
    "    #print('col name after: ', df.columns)\n",
    "    print('shape after one-hot', df.shape)\n",
    "    \n",
    "    df_columns = list(df.columns.values)\n",
    "\n",
    "    # impute nans using mode value\n",
    "    imputer = Imputer(missing_values='NaN',strategy='most_frequent',axis=0)\n",
    "    df = imputer.fit_transform(df)\n",
    "    df = pd.DataFrame(df)\n",
    "    #print('imputed dataframe: ', df.head(5))\n",
    "    print('shape after impute', df.shape)    \n",
    "    \n",
    "    # convert to int\n",
    "    df = df.astype(int)\n",
    "\n",
    "    # detect and exclude outliers in dataframe\n",
    "    # as mentioned in https://stackoverflow.com/questions/23199796/detect-and-exclude-outliers-in-pandas-data-frame\n",
    "    #  remove all rows that have outliers in at least one column   \n",
    "    if for_clustering:\n",
    "        #print('inside outliers if')\n",
    "        df = df[(np.abs(stats.zscore(df)) < 6).all(axis=1)] \n",
    "        print('shape before scaling', df.shape)\n",
    "    # scale the data\n",
    "    scale = StandardScaler(copy=False)\n",
    "    scaled = scale.fit_transform(df)\n",
    "    df = pd.DataFrame(scaled,columns= df_columns)\n",
    "    print('shape after scaling', df.shape)\n",
    "    #else:\n",
    "    #    df.columns = df_columns\n",
    "        \n",
    "    df = df.set_index('LNR')\n",
    "    return df"
   ]
  },
  {
   "cell_type": "markdown",
   "metadata": {},
   "source": [
    "#### clean"
   ]
  },
  {
   "cell_type": "code",
   "execution_count": 8,
   "metadata": {},
   "outputs": [
    {
     "name": "stdout",
     "output_type": "stream",
     "text": [
      "shape after corr (733227, 238)\n",
      "shape after one-hot (733227, 284)\n",
      "shape after impute (733227, 284)\n",
      "inside outliers if\n",
      "shape before scaling (415405, 284)\n",
      "shape after scaling (415405, 284)\n",
      "(415405, 283)\n",
      "CPU times: user 19min 45s, sys: 1min 26s, total: 21min 11s\n",
      "Wall time: 29min 32s\n"
     ]
    }
   ],
   "source": [
    "%%time\n",
    "azdias = data_pre_processing(azdias, True, 'azdias')\n",
    "print(azdias.shape)\n",
    "#print(azdias.head(5))"
   ]
  },
  {
   "cell_type": "code",
   "execution_count": null,
   "metadata": {},
   "outputs": [],
   "source": [
    "#azdias.to_pickle('azdias-scaled.pickle.gzde', compression='gzip')"
   ]
  },
  {
   "cell_type": "code",
   "execution_count": 6,
   "metadata": {},
   "outputs": [
    {
     "name": "stdout",
     "output_type": "stream",
     "text": [
      "<class 'pandas.core.frame.DataFrame'>\n",
      "Float64Index: 415405 entries, 1.04452650923 to 0.716892362508\n",
      "Columns: 283 entries, AGER_TYP to OST_WEST_KZ_W\n",
      "dtypes: float64(283)\n",
      "memory usage: 900.1 MB\n"
     ]
    }
   ],
   "source": [
    "azdias = pd.read_pickle('azdias-scaled.pickle.gzde', compression='gzip')\n",
    "azdias.info()"
   ]
  },
  {
   "cell_type": "code",
   "execution_count": 7,
   "metadata": {},
   "outputs": [
    {
     "name": "stdout",
     "output_type": "stream",
     "text": [
      "shape after corr (191652, 256)\n",
      "shape after one-hot (191652, 303)\n",
      "shape after impute (191652, 303)\n",
      "inside outliers if\n",
      "shape before scaling (100341, 303)\n",
      "shape after scaling (100341, 303)\n",
      "(100341, 302)\n",
      "CPU times: user 1min 31s, sys: 8.83 s, total: 1min 40s\n",
      "Wall time: 1min 46s\n"
     ]
    }
   ],
   "source": [
    "%%time\n",
    "customers = data_pre_processing(customers, True, 'customers')\n",
    "print(customers.shape)\n",
    "#print(customers.head(5))"
   ]
  },
  {
   "cell_type": "code",
   "execution_count": null,
   "metadata": {},
   "outputs": [],
   "source": [
    "#customers.to_pickle('customers-scaled.pickle.gzde', compression='gzip')"
   ]
  },
  {
   "cell_type": "code",
   "execution_count": 32,
   "metadata": {},
   "outputs": [],
   "source": [
    "customers = pd.read_pickle('customers-scaled.pickle.gzde', compression='gzip')"
   ]
  },
  {
   "cell_type": "code",
   "execution_count": 33,
   "metadata": {},
   "outputs": [
    {
     "name": "stdout",
     "output_type": "stream",
     "text": [
      "<class 'pandas.core.frame.DataFrame'>\n",
      "Float64Index: 100341 entries, -1.55636142089 to 1.06623660609\n",
      "Columns: 302 entries, AGER_TYP to OST_WEST_KZ_W\n",
      "dtypes: float64(302)\n",
      "memory usage: 232.0 MB\n"
     ]
    }
   ],
   "source": [
    "customers.info()"
   ]
  },
  {
   "cell_type": "markdown",
   "metadata": {},
   "source": [
    "## Part 1: Customer Segmentation Report\n",
    "\n",
    "The main bulk of your analysis will come in this part of the project. Here, you should use unsupervised learning techniques to describe the relationship between the demographics of the company's existing customers and the general population of Germany. By the end of this part, you should be able to describe parts of the general population that are more likely to be part of the mail-order company's main customer base, and which parts of the general population are less so."
   ]
  },
  {
   "cell_type": "code",
   "execution_count": 7,
   "metadata": {},
   "outputs": [
    {
     "name": "stdout",
     "output_type": "stream",
     "text": [
      "CPU times: user 2min 5s, sys: 4.02 s, total: 2min 9s\n",
      "Wall time: 2min 21s\n"
     ]
    }
   ],
   "source": [
    "%%time\n",
    "pca = PCA().fit(azdias)"
   ]
  },
  {
   "cell_type": "code",
   "execution_count": 8,
   "metadata": {},
   "outputs": [
    {
     "data": {
      "image/png": "[encoded data removed]",
      "text/plain": [
       "<matplotlib.figure.Figure at 0x7f20ceab27b8>"
      ]
     },
     "metadata": {
      "needs_background": "light"
     },
     "output_type": "display_data"
    }
   ],
   "source": [
    "plt.figure(figsize=(10,5))\n",
    "plt.plot(np.cumsum(pca.explained_variance_ratio_), marker='.')\n",
    "plt.xlabel('number of components')\n",
    "plt.ylabel('cumulative explained variance')\n",
    "plt.show()"
   ]
  },
  {
   "cell_type": "code",
   "execution_count": 9,
   "metadata": {},
   "outputs": [],
   "source": [
    "def print_weights(n):\n",
    "    '''\n",
    "    n: number of principal component\n",
    "    '''\n",
    "    components = pd.DataFrame(np.round(pca.components_[n - 1: n], 4), columns = azdias.keys())\n",
    "    components.index = ['Weights']\n",
    "    components = components.sort_values(by = 'Weights', axis = 1, ascending=False)\n",
    "    components = components.T\n",
    "    print(components)\n",
    "    return components"
   ]
  },
  {
   "cell_type": "code",
   "execution_count": 40,
   "metadata": {},
   "outputs": [],
   "source": [
    "def reduce_data(df,n=220):\n",
    "    pca = PCA(n_components=n).fit(df)\n",
    "    reduced_data = pca.transform(df)\n",
    "    reduced_data = pd.DataFrame(reduced_data)\n",
    "    print(pca.explained_variance_ratio_.sum())\n",
    "    return reduced_data"
   ]
  },
  {
   "cell_type": "code",
   "execution_count": 11,
   "metadata": {},
   "outputs": [
    {
     "name": "stdout",
     "output_type": "stream",
     "text": [
      "0.986960833081\n",
      "0.997357857317\n",
      "CPU times: user 3min 12s, sys: 16 s, total: 3min 28s\n",
      "Wall time: 4min 17s\n"
     ]
    }
   ],
   "source": [
    "%%time\n",
    "reduced_azdias = reduce_data(azdias)"
   ]
  },
  {
   "cell_type": "code",
   "execution_count": 41,
   "metadata": {},
   "outputs": [
    {
     "name": "stdout",
     "output_type": "stream",
     "text": [
      "0.997358620805\n",
      "CPU times: user 34.5 s, sys: 2.28 s, total: 36.8 s\n",
      "Wall time: 37.2 s\n"
     ]
    }
   ],
   "source": [
    "%%time\n",
    "reduced_customers = reduce_data(customers)"
   ]
  },
  {
   "cell_type": "code",
   "execution_count": 12,
   "metadata": {},
   "outputs": [
    {
     "name": "stdout",
     "output_type": "stream",
     "text": [
      "number of rows in new dataset:  (415405, 220)\n",
      "number of rows in new dataset:  (100341, 220)\n"
     ]
    }
   ],
   "source": [
    "print('number of rows in new dataset: ',reduced_azdias.shape)\n",
    "print('number of rows in new dataset: ',reduced_customers.shape)"
   ]
  },
  {
   "cell_type": "code",
   "execution_count": 13,
   "metadata": {},
   "outputs": [],
   "source": [
    "#dont use #700mb\n",
    "#reduced_azdias.to_pickle('reduced_azdias.pickle.gzde', compression = 'gzip')\n",
    "#reduced_customers.to_pickle('reduced_customers.pickle.gzde', compression = 'gzip')"
   ]
  },
  {
   "cell_type": "code",
   "execution_count": 14,
   "metadata": {},
   "outputs": [],
   "source": [
    "#reduced_azdias = pd.read_pickle(\"reduced_azdias.pickle.gzde\", compression = 'gzip')"
   ]
  },
  {
   "cell_type": "code",
   "execution_count": 1,
   "metadata": {},
   "outputs": [],
   "source": [
    "#reduced_customers = pd.read_pickle(\"reduced_customers.pickle.gzde\", compression = 'gzip')"
   ]
  },
  {
   "cell_type": "code",
   "execution_count": 16,
   "metadata": {},
   "outputs": [],
   "source": [
    "def score(data, k):\n",
    "    kmeans_k = KMeans(k)\n",
    "    model_k = kmeans_k.fit(data)\n",
    "    return abs(model_k.score(data))"
   ]
  },
  {
   "cell_type": "code",
   "execution_count": 17,
   "metadata": {},
   "outputs": [
    {
     "name": "stdout",
     "output_type": "stream",
     "text": [
      "CPU times: user 4min 50s, sys: 10.2 s, total: 5min\n",
      "Wall time: 5min 2s\n"
     ]
    }
   ],
   "source": [
    "%%time\n",
    "scores = []\n",
    "for i in range(1, 21):\n",
    "    scores.append(score(reduced_azdias.sample(20000), i))\n",
    "centers = np.linspace(1,20,20)\n"
   ]
  },
  {
   "cell_type": "code",
   "execution_count": 18,
   "metadata": {},
   "outputs": [
    {
     "data": {
      "text/plain": [
       "[<matplotlib.lines.Line2D at 0x7f20d43d8710>]"
      ]
     },
     "execution_count": 18,
     "metadata": {},
     "output_type": "execute_result"
    },
    {
     "data": {
      "image/png": "[encoded data removed]",
      "text/plain": [
       "<matplotlib.figure.Figure at 0x7f20ceab2400>"
      ]
     },
     "metadata": {
      "needs_background": "light"
     },
     "output_type": "display_data"
    }
   ],
   "source": [
    "plt.figure(figsize=(10,5))\n",
    "plt.plot(centers, scores, marker=\".\")"
   ]
  },
  {
   "cell_type": "code",
   "execution_count": 19,
   "metadata": {},
   "outputs": [
    {
     "data": {
      "text/plain": [
       "Text(0.5,0,'Number of Clusters')"
      ]
     },
     "execution_count": 19,
     "metadata": {},
     "output_type": "execute_result"
    },
    {
     "data": {
      "image/png": "[encoded data removed]",
      "text/plain": [
       "<matplotlib.figure.Figure at 0x7f20c2126908>"
      ]
     },
     "metadata": {
      "needs_background": "light"
     },
     "output_type": "display_data"
    }
   ],
   "source": [
    "centers = np.linspace(1,20,20)\n",
    "plt.figure(figsize=(10,5))\n",
    "plt.plot(centers, scores, marker=\".\")\n",
    "plt.xticks(list(range(1,22,2)))\n",
    "plt.ylabel('Average Within-Cluster Distances')\n",
    "plt.xlabel('Number of Clusters')"
   ]
  },
  {
   "cell_type": "code",
   "execution_count": 20,
   "metadata": {},
   "outputs": [
    {
     "name": "stdout",
     "output_type": "stream",
     "text": [
      "CPU times: user 8min 31s, sys: 1min 23s, total: 9min 54s\n",
      "Wall time: 11min 22s\n"
     ]
    }
   ],
   "source": [
    "%%time\n",
    "kmeans_k = KMeans(12)\n",
    "model_k = kmeans_k.fit(reduced_azdias)\n",
    "prediction_azdias = model_k.predict(reduced_azdias)"
   ]
  },
  {
   "cell_type": "code",
   "execution_count": 21,
   "metadata": {},
   "outputs": [],
   "source": [
    "azdias_clustered = pd.DataFrame(prediction_azdias, columns = ['Cluster'])"
   ]
  },
  {
   "cell_type": "code",
   "execution_count": 22,
   "metadata": {},
   "outputs": [],
   "source": [
    "#azdias_clustered.to_pickle('azdias_clustered.pickle.gzde', compression = 'gzip')"
   ]
  },
  {
   "cell_type": "code",
   "execution_count": 23,
   "metadata": {},
   "outputs": [],
   "source": [
    "#azdias_clustered  = pd.read_pickle(azdias_clustered.pickle.gzde', compression = 'gzip')"
   ]
  },
  {
   "cell_type": "code",
   "execution_count": 24,
   "metadata": {},
   "outputs": [],
   "source": [
    "prediction_customers = model_k.predict(reduced_customers)\n",
    "customers_clustered = pd.DataFrame(prediction_customers, columns = ['Cluster'])"
   ]
  },
  {
   "cell_type": "code",
   "execution_count": 25,
   "metadata": {},
   "outputs": [],
   "source": [
    "#customers_clustered.to_pickle('customers_clustered.pickle.gzde', compression = 'gzip')"
   ]
  },
  {
   "cell_type": "code",
   "execution_count": 37,
   "metadata": {},
   "outputs": [],
   "source": [
    "customers_clustered = pd.read_pickle('customers_clustered.pickle.gzde', compression = 'gzip')"
   ]
  },
  {
   "cell_type": "markdown",
   "metadata": {},
   "source": [
    "Analysis of data in clusters and also comparison between clusters of general population and customer data"
   ]
  },
  {
   "cell_type": "code",
   "execution_count": 27,
   "metadata": {},
   "outputs": [],
   "source": [
    "# For each customer segment count the number of predictions  \n",
    "customer_clusters = pd.Series(prediction_customers)\n",
    "cc = customer_clusters.value_counts().sort_index()\n",
    "# Count number in each population segment\n",
    "population_clusters = pd.Series(prediction_azdias)\n",
    "pc = population_clusters.value_counts().sort_index()"
   ]
  },
  {
   "cell_type": "code",
   "execution_count": 28,
   "metadata": {},
   "outputs": [
    {
     "data": {
      "text/html": [
       "<div>\n",
       "<style scoped>\n",
       "    .dataframe tbody tr th:only-of-type {\n",
       "        vertical-align: middle;\n",
       "    }\n",
       "\n",
       "    .dataframe tbody tr th {\n",
       "        vertical-align: top;\n",
       "    }\n",
       "\n",
       "    .dataframe thead th {\n",
       "        text-align: right;\n",
       "    }\n",
       "</style>\n",
       "<table border=\"1\" class=\"dataframe\">\n",
       "  <thead>\n",
       "    <tr style=\"text-align: right;\">\n",
       "      <th></th>\n",
       "      <th>cluster</th>\n",
       "      <th>population</th>\n",
       "      <th>customer</th>\n",
       "      <th>difference</th>\n",
       "    </tr>\n",
       "  </thead>\n",
       "  <tbody>\n",
       "    <tr>\n",
       "      <th>0</th>\n",
       "      <td>0</td>\n",
       "      <td>52375</td>\n",
       "      <td>30</td>\n",
       "      <td>-12.578280</td>\n",
       "    </tr>\n",
       "    <tr>\n",
       "      <th>1</th>\n",
       "      <td>1</td>\n",
       "      <td>33600</td>\n",
       "      <td>46315</td>\n",
       "      <td>38.069111</td>\n",
       "    </tr>\n",
       "    <tr>\n",
       "      <th>2</th>\n",
       "      <td>2</td>\n",
       "      <td>36159</td>\n",
       "      <td>6628</td>\n",
       "      <td>-2.099042</td>\n",
       "    </tr>\n",
       "    <tr>\n",
       "      <th>3</th>\n",
       "      <td>3</td>\n",
       "      <td>45504</td>\n",
       "      <td>2619</td>\n",
       "      <td>-8.344030</td>\n",
       "    </tr>\n",
       "    <tr>\n",
       "      <th>4</th>\n",
       "      <td>4</td>\n",
       "      <td>34985</td>\n",
       "      <td>851</td>\n",
       "      <td>-7.573794</td>\n",
       "    </tr>\n",
       "    <tr>\n",
       "      <th>5</th>\n",
       "      <td>5</td>\n",
       "      <td>14962</td>\n",
       "      <td>7236</td>\n",
       "      <td>3.609623</td>\n",
       "    </tr>\n",
       "    <tr>\n",
       "      <th>6</th>\n",
       "      <td>6</td>\n",
       "      <td>37971</td>\n",
       "      <td>21916</td>\n",
       "      <td>12.700802</td>\n",
       "    </tr>\n",
       "    <tr>\n",
       "      <th>7</th>\n",
       "      <td>7</td>\n",
       "      <td>1728</td>\n",
       "      <td>7</td>\n",
       "      <td>-0.409003</td>\n",
       "    </tr>\n",
       "    <tr>\n",
       "      <th>8</th>\n",
       "      <td>8</td>\n",
       "      <td>51243</td>\n",
       "      <td>351</td>\n",
       "      <td>-11.985865</td>\n",
       "    </tr>\n",
       "    <tr>\n",
       "      <th>9</th>\n",
       "      <td>9</td>\n",
       "      <td>26305</td>\n",
       "      <td>1018</td>\n",
       "      <td>-5.317834</td>\n",
       "    </tr>\n",
       "    <tr>\n",
       "      <th>10</th>\n",
       "      <td>10</td>\n",
       "      <td>43980</td>\n",
       "      <td>13204</td>\n",
       "      <td>2.571869</td>\n",
       "    </tr>\n",
       "    <tr>\n",
       "      <th>11</th>\n",
       "      <td>11</td>\n",
       "      <td>36593</td>\n",
       "      <td>166</td>\n",
       "      <td>-8.643558</td>\n",
       "    </tr>\n",
       "  </tbody>\n",
       "</table>\n",
       "</div>"
      ],
      "text/plain": [
       "    cluster  population  customer  difference\n",
       "0         0       52375        30  -12.578280\n",
       "1         1       33600     46315   38.069111\n",
       "2         2       36159      6628   -2.099042\n",
       "3         3       45504      2619   -8.344030\n",
       "4         4       34985       851   -7.573794\n",
       "5         5       14962      7236    3.609623\n",
       "6         6       37971     21916   12.700802\n",
       "7         7        1728         7   -0.409003\n",
       "8         8       51243       351  -11.985865\n",
       "9         9       26305      1018   -5.317834\n",
       "10       10       43980     13204    2.571869\n",
       "11       11       36593       166   -8.643558"
      ]
     },
     "execution_count": 28,
     "metadata": {},
     "output_type": "execute_result"
    }
   ],
   "source": [
    "# Dataframe from population and customer segments\n",
    "df_stat = pd.concat([pc, cc], axis=1).reset_index()\n",
    "df_stat.columns = ['cluster','population','customer']\n",
    "\n",
    "df_stat_cust = df_stat['customer']/df_stat['customer'].sum()*100\n",
    "df_stat_popu = df_stat['population']/df_stat['population'].sum()*100\n",
    "df_stat['difference'] = df_stat_cust - df_stat_popu\n",
    "df_stat"
   ]
  },
  {
   "cell_type": "code",
   "execution_count": 29,
   "metadata": {},
   "outputs": [
    {
     "data": {
      "image/png": "[encoded data removed]",
      "text/plain": [
       "<matplotlib.figure.Figure at 0x7f20c1b48da0>"
      ]
     },
     "metadata": {
      "needs_background": "light"
     },
     "output_type": "display_data"
    }
   ],
   "source": [
    "# Compare the proportion of data in each cluster for the customer data to the\n",
    "# proportion of data in each cluster for the general population.\n",
    "# Add ratio and ratio difference for each cluster to the dataframe\n",
    "df_stat['pop_percent'] = df_stat_popu.round(2)\n",
    "df_stat['cust_percent'] = df_stat_cust.round(2)\n",
    "\n",
    "\n",
    "fig = plt.figure(figsize=(10,5))\n",
    "\n",
    "ax = fig.add_subplot(111)\n",
    "ax = df_stat['pop_percent'].plot(x=df_stat['cluster'],width=0.3,align='edge',color='black',kind='bar',position=0)\n",
    "ax = df_stat['cust_percent'].plot(width=0.3,align='edge',color='green',kind='bar',position=1)\n",
    "ax.set_xlabel('Clusters', fontsize=10) \n",
    "ax.set_ylabel('Ratio %', fontsize=10)\n",
    "ax.xaxis.set(ticklabels=range(20))\n",
    "ax.tick_params(axis = 'x', which = 'major', labelsize = 15)\n",
    "ax.margins(x=0.5,y=0.1)\n",
    "\n",
    "plt.legend(('General Population', 'Customer Population'),fontsize=10)\n",
    "plt.title(('General Population Vs Customer segments per cluster'))\n",
    "plt.show()\n"
   ]
  },
  {
   "cell_type": "code",
   "execution_count": 30,
   "metadata": {},
   "outputs": [],
   "source": [
    "# Show Highest Positive and Negative weights when a PComponent and Weight is passed\n",
    "def pca_weights(pc,weight_num):\n",
    "    \n",
    "    ratio = pd.DataFrame(pca.explained_variance_ratio_,columns = ['EXPLAINED_VARIANCE'])\n",
    "    ratio = ratio.round(3)\n",
    "    weights = pd.DataFrame(pca.components_, columns = azdias.columns.values)\n",
    "    weights = weights.round(3)    \n",
    "    \n",
    "    result = pd.concat([ratio, weights], axis = 1,  join_axes=[ratio.index])\n",
    "    result[:5]\n",
    "    print(\"Principal Component: \", (pc))    \n",
    "    print('\\n')\n",
    "    print(\"Highest Positive weights:\")\n",
    "    print(result.iloc[(pc)-1].sort_values(ascending=False)[:weight_num])\n",
    "    print('\\n')\n",
    "    print(\"Negative weights:\")\n",
    "    print(result.iloc[(pc)-1].sort_values()[:weight_num])"
   ]
  },
  {
   "cell_type": "code",
   "execution_count": 31,
   "metadata": {},
   "outputs": [
    {
     "name": "stdout",
     "output_type": "stream",
     "text": [
      "Principal Component:  5\n",
      "\n",
      "\n",
      "Highest Positive weights:\n",
      "KBA13_KMH_210          0.223\n",
      "OST_WEST_KZ_O          0.187\n",
      "KBA13_CCM_1401_2500    0.183\n",
      "KBA13_VORB_0           0.135\n",
      "KBA13_CCM_2000         0.134\n",
      "Name: 4, dtype: float64\n",
      "\n",
      "\n",
      "Negative weights:\n",
      "KBA13_KW_0_60         -0.239\n",
      "KBA13_KMH_180         -0.196\n",
      "KBA13_CCM_0_1400      -0.194\n",
      "OST_WEST_KZ_W         -0.187\n",
      "KBA13_SEG_MINIWAGEN   -0.159\n",
      "Name: 4, dtype: float64\n"
     ]
    }
   ],
   "source": [
    "# Show highest positive and negative weights for 5 cluster (over representation of Customer)\n",
    "pca_weights(5,5)"
   ]
  },
  {
   "cell_type": "code",
   "execution_count": 32,
   "metadata": {},
   "outputs": [
    {
     "name": "stdout",
     "output_type": "stream",
     "text": [
      "Principal Component:  10\n",
      "\n",
      "\n",
      "Highest Positive weights:\n",
      "KBA05_MAXSEG     0.272\n",
      "KBA05_KRSOBER    0.208\n",
      "KBA05_CCM3       0.186\n",
      "KBA05_HERST1     0.165\n",
      "KBA05_KW2        0.163\n",
      "Name: 9, dtype: float64\n",
      "\n",
      "\n",
      "Negative weights:\n",
      "KBA05_CCM1        -0.235\n",
      "KBA05_MODTEMP     -0.210\n",
      "KBA05_HERST3      -0.162\n",
      "OST_WEST_KZ_W     -0.148\n",
      "KBA05_HERSTTEMP   -0.137\n",
      "Name: 9, dtype: float64\n"
     ]
    }
   ],
   "source": [
    "# Show lowest positive and negative weights for 10 cluster (under representation of Customer)\n",
    "pca_weights(10,5)"
   ]
  },
  {
   "cell_type": "code",
   "execution_count": 33,
   "metadata": {},
   "outputs": [],
   "source": [
    "# scale the data\n",
    "scale = StandardScaler(copy=False)"
   ]
  },
  {
   "cell_type": "code",
   "execution_count": 34,
   "metadata": {},
   "outputs": [
    {
     "name": "stdout",
     "output_type": "stream",
     "text": [
      "1     3.692703\n",
      "3     3.641263\n",
      "2     0.704566\n",
      "4     0.659195\n",
      "19    0.456817\n",
      "dtype: float64\n",
      "(220,)\n"
     ]
    }
   ],
   "source": [
    "# What kinds of people are part of a cluster that is overrepresented in the\n",
    "# customer data compared to the general population?\n",
    "\n",
    "# Analysis of principal components of cluster 2 with over-representation in customer segment.\n",
    "CC = model_k.cluster_centers_[2]\n",
    "CC = pd.Series(CC)\n",
    "CC.index = CC.index +1\n",
    "print(CC.sort_values(ascending=False).head(5))\n",
    "print(CC.shape)"
   ]
  },
  {
   "cell_type": "markdown",
   "metadata": {},
   "source": [
    "## Part 2: Supervised Learning Model\n",
    "\n",
    "Now that you've found which parts of the population are more likely to be customers of the mail-order company, it's time to build a prediction model. Each of the rows in the \"MAILOUT\" data files represents an individual that was targeted for a mailout campaign. Ideally, we should be able to use the demographic information from each individual to decide whether or not it will be worth it to include that person in the campaign.\n",
    "\n",
    "The \"MAILOUT\" data has been split into two approximately equal parts, each with almost 43 000 data rows. In this part, you can verify your model with the \"TRAIN\" partition, which includes a column, \"RESPONSE\", that states whether or not a person became a customer of the company following the campaign. In the next part, you'll need to create predictions on the \"TEST\" partition, where the \"RESPONSE\" column has been withheld."
   ]
  },
  {
   "cell_type": "code",
   "execution_count": 4,
   "metadata": {},
   "outputs": [
    {
     "name": "stderr",
     "output_type": "stream",
     "text": [
      "/opt/conda/lib/python3.6/site-packages/IPython/core/interactiveshell.py:2785: DtypeWarning: Columns (18,19) have mixed types. Specify dtype option on import or set low_memory=False.\n",
      "  interactivity=interactivity, compiler=compiler, result=result)\n"
     ]
    }
   ],
   "source": [
    "mailout_train = pd.read_csv('../../data/Term2/capstone/arvato_data/Udacity_MAILOUT_052018_TRAIN.csv', sep=';')"
   ]
  },
  {
   "cell_type": "code",
   "execution_count": 5,
   "metadata": {},
   "outputs": [
    {
     "name": "stderr",
     "output_type": "stream",
     "text": [
      "/opt/conda/lib/python3.6/site-packages/IPython/core/interactiveshell.py:2785: DtypeWarning: Columns (18,19) have mixed types. Specify dtype option on import or set low_memory=False.\n",
      "  interactivity=interactivity, compiler=compiler, result=result)\n"
     ]
    }
   ],
   "source": [
    "mailout_test = pd.read_csv('../../data/Term2/capstone/arvato_data/Udacity_MAILOUT_052018_TEST.csv', sep=';')"
   ]
  },
  {
   "cell_type": "code",
   "execution_count": 6,
   "metadata": {},
   "outputs": [],
   "source": [
    "X = mailout_train.drop('RESPONSE',axis=1)\n",
    "y = mailout_train['RESPONSE']"
   ]
  },
  {
   "cell_type": "code",
   "execution_count": 10,
   "metadata": {},
   "outputs": [
    {
     "name": "stdout",
     "output_type": "stream",
     "text": [
      "shape after corr (42962, 253)\n",
      "shape after one-hot (42962, 300)\n",
      "shape after impute (42962, 300)\n",
      "shape after scaling (42962, 300)\n"
     ]
    }
   ],
   "source": [
    "# preprocess data\n",
    "df_mailout_train  = data_pre_processing(X, False)"
   ]
  },
  {
   "cell_type": "code",
   "execution_count": 11,
   "metadata": {},
   "outputs": [
    {
     "name": "stdout",
     "output_type": "stream",
     "text": [
      "(42962, 299)\n",
      "(42962,)\n"
     ]
    }
   ],
   "source": [
    "print(df_mailout_train.shape)\n",
    "print(y.shape)"
   ]
  },
  {
   "cell_type": "code",
   "execution_count": 12,
   "metadata": {},
   "outputs": [],
   "source": [
    "# Split the dataset into Train/Validation/Test\n",
    "X_train, X_val, y_train, y_val = train_test_split(df_mailout_train, y, stratify=y, test_size=0.2, random_state=42)"
   ]
  },
  {
   "cell_type": "code",
   "execution_count": 13,
   "metadata": {},
   "outputs": [
    {
     "name": "stdout",
     "output_type": "stream",
     "text": [
      "[09:13:00] WARNING: /home/conda/feedstock_root/build_artifacts/xgboost_1588600955503/work/src/objective/regression_obj.cu:167: reg:linear is now deprecated in favor of reg:squarederror.\n",
      "CPU times: user 2.03 s, sys: 132 ms, total: 2.16 s\n",
      "Wall time: 2.17 s\n"
     ]
    }
   ],
   "source": [
    "%%time\n",
    "xg_reg = xgb.XGBRegressor(objective ='reg:linear', colsample_bytree = 0.3, learning_rate = 0.1,\n",
    "                max_depth = 5, alpha = 10, n_estimators = 10)\n",
    "xg_reg.fit(X_train,y_train)"
   ]
  },
  {
   "cell_type": "code",
   "execution_count": 14,
   "metadata": {},
   "outputs": [
    {
     "data": {
      "text/plain": [
       "array([ 0.18259421,  0.18259421,  0.18259421, ...,  0.18259421,\n",
       "        0.18259421,  0.18259421], dtype=float32)"
      ]
     },
     "execution_count": 14,
     "metadata": {},
     "output_type": "execute_result"
    }
   ],
   "source": [
    "pred = xg_reg.predict(X_val)\n",
    "pred"
   ]
  },
  {
   "cell_type": "code",
   "execution_count": 15,
   "metadata": {},
   "outputs": [
    {
     "name": "stdout",
     "output_type": "stream",
     "text": [
      "ROC score on validation data: 0.5000\n"
     ]
    }
   ],
   "source": [
    "print(\"ROC score on validation data: {:.4f}\".format(roc_auc_score(y_val, pred)))"
   ]
  },
  {
   "cell_type": "markdown",
   "metadata": {},
   "source": [
    "## Model Evaluation and Validation\n",
    "In terms of evaluation metric to use, I have tried accuracy, precision, recall and fscore but due to very high imbalance \n",
    "(i.e. In MAILOUT_TRAIN dataset, we can find among 43000 individuals, \n",
    " only 532 people response to the mail-out campaign which means the training data is highly imbalanced.), \n",
    "none of these were a good way to measure and then finalised on AUC and ROC as the evaluation metric to proceed."
   ]
  },
  {
   "cell_type": "code",
   "execution_count": 16,
   "metadata": {},
   "outputs": [],
   "source": [
    "def train_predict(learner, X_train, y_train, X_test, y_test): \n",
    "    '''\n",
    "    inputs:\n",
    "       - learner: the learning algorithm to be trained and predicted on\n",
    "       - sample_size: the size of samples (number) to be drawn from training set\n",
    "       - X_train: features training set\n",
    "       - y_train: income training set\n",
    "       - X_test: features testing set\n",
    "       - y_test: income testing set\n",
    "    '''\n",
    "    \n",
    "    results = {}\n",
    "    \n",
    "    # TODO: Fit the learner to the training data using slicing with 'sample_size' using .fit(training_features[:], training_labels[:])\n",
    "    start = time() # Get start time\n",
    "    learner = learner.fit(X_train, y_train)\n",
    "    end = time() # Get end time\n",
    "    \n",
    "    # TODO: Calculate the training time\n",
    "    #results['train_time'] = end - start\n",
    "        \n",
    "    # TODO: Get the predictions on the test set(X_test),\n",
    "    #       then get predictions on the first 300 training samples(X_train) using .predict()\n",
    "    start = time() # Get start time\n",
    "    predictions_test = learner.predict(X_test)\n",
    "    predictions_train = learner.predict(X_train)\n",
    "    end = time() # Get end time\n",
    "    \n",
    "    # print('unique predictions_train: ', set(predictions_train))\n",
    "    \n",
    "    # TODO: Calculate the total prediction time\n",
    "    #results['pred_time'] = end - start\n",
    "            \n",
    "    # TODO: Compute accuracy on the first 300 training samples which is y_train[:300]\n",
    "    #results['acc_train'] = accuracy_score(y_train, predictions_train)\n",
    "        \n",
    "    # TODO: Compute accuracy on test set using accuracy_score()\n",
    "    #results['acc_test'] = accuracy_score(y_test, predictions_test)\n",
    "    \n",
    "    #results['prec_train'] = precision_score(y_train, predictions_train)\n",
    "    #results['recall_train'] = recall_score(y_train, predictions_train)\n",
    "    \n",
    "    #results['prec_test'] = precision_score(y_test, predictions_test)\n",
    "    #results['recall_test'] = recall_score(y_test, predictions_test)\n",
    "    \n",
    "    # TODO: Compute F-score on the the first 300 training samples using fbeta_score()\n",
    "    #results['f_train'] = fbeta_score(y_train, predictions_train, beta=1)\n",
    "        \n",
    "    # TODO: Compute F-score on the test set which is y_test\n",
    "    #results['f_test'] = fbeta_score(y_test, predictions_test, beta=1)\n",
    "       \n",
    "    # Success\n",
    "    #print(\"{} trained on samples.\".format(learner.__class__.__name__))\n",
    "    \n",
    "    #results['roc'] = roc_auc_score(y_test, predictions_test)\n",
    "    \n",
    "    roc = roc_auc_score(y_test, predictions_test)\n",
    "        \n",
    "    # Return the results\n",
    "    return roc"
   ]
  },
  {
   "cell_type": "code",
   "execution_count": 17,
   "metadata": {},
   "outputs": [
    {
     "data": {
      "text/plain": [
       "5"
      ]
     },
     "execution_count": 17,
     "metadata": {},
     "output_type": "execute_result"
    }
   ],
   "source": [
    "# Initialize 5 stratified folds\n",
    "skf = StratifiedKFold(n_splits=5, random_state=42)\n",
    "skf.get_n_splits(X, y)"
   ]
  },
  {
   "cell_type": "code",
   "execution_count": 18,
   "metadata": {},
   "outputs": [
    {
     "name": "stdout",
     "output_type": "stream",
     "text": [
      "{'alg_name': 'AdaBoostRegressor', 'fold': 1, 'roc': 0.7520605681485284}\n",
      "{'alg_name': 'AdaBoostRegressor', 'fold': 2, 'roc': 0.76112332351690848}\n",
      "{'alg_name': 'AdaBoostRegressor', 'fold': 3, 'roc': 0.78820888122056743}\n",
      "{'alg_name': 'AdaBoostRegressor', 'fold': 4, 'roc': 0.72870910578577819}\n",
      "{'alg_name': 'AdaBoostRegressor', 'fold': 5, 'roc': 0.73072796926347061}\n",
      "{'alg_name': 'GradientBoostingRegressor', 'fold': 1, 'roc': 0.73311512529708089}\n",
      "{'alg_name': 'GradientBoostingRegressor', 'fold': 2, 'roc': 0.75193446710469802}\n",
      "{'alg_name': 'GradientBoostingRegressor', 'fold': 3, 'roc': 0.80506516837943964}\n",
      "{'alg_name': 'GradientBoostingRegressor', 'fold': 4, 'roc': 0.73210648837819448}\n",
      "{'alg_name': 'GradientBoostingRegressor', 'fold': 5, 'roc': 0.75577588391979689}\n",
      "{'alg_name': 'XGBRegressor', 'fold': 1, 'roc': 0.5558291721824401}\n",
      "{'alg_name': 'XGBRegressor', 'fold': 2, 'roc': 0.60636375250274777}\n",
      "{'alg_name': 'XGBRegressor', 'fold': 3, 'roc': 0.65723789237767871}\n",
      "{'alg_name': 'XGBRegressor', 'fold': 4, 'roc': 0.6270071905335759}\n",
      "{'alg_name': 'XGBRegressor', 'fold': 5, 'roc': 0.58278952236536097}\n",
      "result_list:  [{'alg_name': 'AdaBoostRegressor', 'fold': 1, 'roc': 0.7520605681485284}, {'alg_name': 'AdaBoostRegressor', 'fold': 2, 'roc': 0.76112332351690848}, {'alg_name': 'AdaBoostRegressor', 'fold': 3, 'roc': 0.78820888122056743}, {'alg_name': 'AdaBoostRegressor', 'fold': 4, 'roc': 0.72870910578577819}, {'alg_name': 'AdaBoostRegressor', 'fold': 5, 'roc': 0.73072796926347061}, {'alg_name': 'GradientBoostingRegressor', 'fold': 1, 'roc': 0.73311512529708089}, {'alg_name': 'GradientBoostingRegressor', 'fold': 2, 'roc': 0.75193446710469802}, {'alg_name': 'GradientBoostingRegressor', 'fold': 3, 'roc': 0.80506516837943964}, {'alg_name': 'GradientBoostingRegressor', 'fold': 4, 'roc': 0.73210648837819448}, {'alg_name': 'GradientBoostingRegressor', 'fold': 5, 'roc': 0.75577588391979689}, {'alg_name': 'XGBRegressor', 'fold': 1, 'roc': 0.5558291721824401}, {'alg_name': 'XGBRegressor', 'fold': 2, 'roc': 0.60636375250274777}, {'alg_name': 'XGBRegressor', 'fold': 3, 'roc': 0.65723789237767871}, {'alg_name': 'XGBRegressor', 'fold': 4, 'roc': 0.6270071905335759}, {'alg_name': 'XGBRegressor', 'fold': 5, 'roc': 0.58278952236536097}]\n"
     ]
    }
   ],
   "source": [
    "alg_abr = AdaBoostRegressor(random_state=42)\n",
    "alg_gbr = GradientBoostingRegressor(random_state=42)\n",
    "alg_xgb = XGBRegressor(random_state=42)\n",
    "\n",
    "\n",
    "result_list = []\n",
    "for alg in [alg_abr, alg_gbr, alg_xgb]:\n",
    "    alg_name = alg.__class__.__name__\n",
    "    \n",
    "    \n",
    "    \n",
    "    j=0\n",
    "    for train_index, val_index in skf.split(df_mailout_train, y):\n",
    "    \n",
    "        j+=1\n",
    "        #print('Fold {}...'.format(j))\n",
    "        result = {}  \n",
    "        result['alg_name'] = alg_name\n",
    "        result['fold']  =  j\n",
    "        # Split the data into training and test sets\n",
    "        X_train, X_val = df_mailout_train.iloc[train_index], df_mailout_train.iloc[val_index]\n",
    "        y_train, y_val = y.iloc[train_index], y.iloc[val_index]\n",
    "        \n",
    "        \n",
    "        \n",
    "        result['roc'] = train_predict(alg, X_train, y_train, X_val, y_val)\n",
    "        result_list.append(result)\n",
    "        print (result)\n",
    "    \n",
    "#return result_list    \n",
    "\n",
    "print('result_list: ', result_list)"
   ]
  },
  {
   "cell_type": "code",
   "execution_count": 19,
   "metadata": {},
   "outputs": [
    {
     "data": {
      "text/html": [
       "<div>\n",
       "<style scoped>\n",
       "    .dataframe tbody tr th:only-of-type {\n",
       "        vertical-align: middle;\n",
       "    }\n",
       "\n",
       "    .dataframe tbody tr th {\n",
       "        vertical-align: top;\n",
       "    }\n",
       "\n",
       "    .dataframe thead th {\n",
       "        text-align: right;\n",
       "    }\n",
       "</style>\n",
       "<table border=\"1\" class=\"dataframe\">\n",
       "  <thead>\n",
       "    <tr style=\"text-align: right;\">\n",
       "      <th></th>\n",
       "      <th>alg_name</th>\n",
       "      <th>fold</th>\n",
       "      <th>roc</th>\n",
       "    </tr>\n",
       "  </thead>\n",
       "  <tbody>\n",
       "    <tr>\n",
       "      <th>0</th>\n",
       "      <td>AdaBoostRegressor</td>\n",
       "      <td>1</td>\n",
       "      <td>0.752061</td>\n",
       "    </tr>\n",
       "    <tr>\n",
       "      <th>1</th>\n",
       "      <td>AdaBoostRegressor</td>\n",
       "      <td>2</td>\n",
       "      <td>0.761123</td>\n",
       "    </tr>\n",
       "    <tr>\n",
       "      <th>2</th>\n",
       "      <td>AdaBoostRegressor</td>\n",
       "      <td>3</td>\n",
       "      <td>0.788209</td>\n",
       "    </tr>\n",
       "    <tr>\n",
       "      <th>3</th>\n",
       "      <td>AdaBoostRegressor</td>\n",
       "      <td>4</td>\n",
       "      <td>0.728709</td>\n",
       "    </tr>\n",
       "    <tr>\n",
       "      <th>4</th>\n",
       "      <td>AdaBoostRegressor</td>\n",
       "      <td>5</td>\n",
       "      <td>0.730728</td>\n",
       "    </tr>\n",
       "    <tr>\n",
       "      <th>5</th>\n",
       "      <td>GradientBoostingRegressor</td>\n",
       "      <td>1</td>\n",
       "      <td>0.733115</td>\n",
       "    </tr>\n",
       "    <tr>\n",
       "      <th>6</th>\n",
       "      <td>GradientBoostingRegressor</td>\n",
       "      <td>2</td>\n",
       "      <td>0.751934</td>\n",
       "    </tr>\n",
       "    <tr>\n",
       "      <th>7</th>\n",
       "      <td>GradientBoostingRegressor</td>\n",
       "      <td>3</td>\n",
       "      <td>0.805065</td>\n",
       "    </tr>\n",
       "    <tr>\n",
       "      <th>8</th>\n",
       "      <td>GradientBoostingRegressor</td>\n",
       "      <td>4</td>\n",
       "      <td>0.732106</td>\n",
       "    </tr>\n",
       "    <tr>\n",
       "      <th>9</th>\n",
       "      <td>GradientBoostingRegressor</td>\n",
       "      <td>5</td>\n",
       "      <td>0.755776</td>\n",
       "    </tr>\n",
       "    <tr>\n",
       "      <th>10</th>\n",
       "      <td>XGBRegressor</td>\n",
       "      <td>1</td>\n",
       "      <td>0.555829</td>\n",
       "    </tr>\n",
       "    <tr>\n",
       "      <th>11</th>\n",
       "      <td>XGBRegressor</td>\n",
       "      <td>2</td>\n",
       "      <td>0.606364</td>\n",
       "    </tr>\n",
       "    <tr>\n",
       "      <th>12</th>\n",
       "      <td>XGBRegressor</td>\n",
       "      <td>3</td>\n",
       "      <td>0.657238</td>\n",
       "    </tr>\n",
       "    <tr>\n",
       "      <th>13</th>\n",
       "      <td>XGBRegressor</td>\n",
       "      <td>4</td>\n",
       "      <td>0.627007</td>\n",
       "    </tr>\n",
       "    <tr>\n",
       "      <th>14</th>\n",
       "      <td>XGBRegressor</td>\n",
       "      <td>5</td>\n",
       "      <td>0.582790</td>\n",
       "    </tr>\n",
       "  </tbody>\n",
       "</table>\n",
       "</div>"
      ],
      "text/plain": [
       "                     alg_name  fold       roc\n",
       "0           AdaBoostRegressor     1  0.752061\n",
       "1           AdaBoostRegressor     2  0.761123\n",
       "2           AdaBoostRegressor     3  0.788209\n",
       "3           AdaBoostRegressor     4  0.728709\n",
       "4           AdaBoostRegressor     5  0.730728\n",
       "5   GradientBoostingRegressor     1  0.733115\n",
       "6   GradientBoostingRegressor     2  0.751934\n",
       "7   GradientBoostingRegressor     3  0.805065\n",
       "8   GradientBoostingRegressor     4  0.732106\n",
       "9   GradientBoostingRegressor     5  0.755776\n",
       "10               XGBRegressor     1  0.555829\n",
       "11               XGBRegressor     2  0.606364\n",
       "12               XGBRegressor     3  0.657238\n",
       "13               XGBRegressor     4  0.627007\n",
       "14               XGBRegressor     5  0.582790"
      ]
     },
     "execution_count": 19,
     "metadata": {},
     "output_type": "execute_result"
    }
   ],
   "source": [
    "df_scores = pd.DataFrame(result_list)\n",
    "df_scores"
   ]
  },
  {
   "cell_type": "markdown",
   "metadata": {},
   "source": [
    "compare Scores"
   ]
  },
  {
   "cell_type": "code",
   "execution_count": 20,
   "metadata": {},
   "outputs": [
    {
     "data": {
      "text/plain": [
       "alg_name\n",
       "AdaBoostRegressor            0.752166\n",
       "GradientBoostingRegressor    0.755599\n",
       "XGBRegressor                 0.605846\n",
       "Name: roc, dtype: float64"
      ]
     },
     "execution_count": 20,
     "metadata": {},
     "output_type": "execute_result"
    }
   ],
   "source": [
    "df_scores.groupby('alg_name')['roc'].mean()"
   ]
  },
  {
   "cell_type": "markdown",
   "metadata": {},
   "source": [
    "## Model hyperparameters optimization: model XGBRegressor"
   ]
  },
  {
   "cell_type": "code",
   "execution_count": 21,
   "metadata": {},
   "outputs": [
    {
     "name": "stderr",
     "output_type": "stream",
     "text": [
      "/opt/conda/lib/python3.6/site-packages/sklearn/model_selection/_search.py:761: DeprecationWarning: The grid_scores_ attribute was deprecated in version 0.18 in favor of the more elaborate cv_results_ attribute. The grid_scores_ attribute will not be available from 0.20\n",
      "  DeprecationWarning)\n"
     ]
    }
   ],
   "source": [
    "parameters = { 'learning_rate' : [0.1],\n",
    "                'n_estimators' :[500],\n",
    "                'reg_alpha' : [0.05],\n",
    "                'subsample' : [0.6],\n",
    "                'colsample_bytree' : [0.7],\n",
    "                'gamma' : [0.2],\n",
    "                'max_depth' : [3],\n",
    "                'min_child_weight' : [2],\n",
    "                'objective' : ['binary:logistic'],\n",
    "                'scale_pos_weight' : [1],\n",
    "                'random_state' : [42],\n",
    "                'scoring' : ['roc_auc']\n",
    "             }\n",
    "\n",
    "# Perform grid search on the classifier using 'scorer' as the scoring method\n",
    "cv = GridSearchCV(alg_xgb, parameters, scoring = 'roc_auc', n_jobs= -1)\n",
    "\n",
    "# Fit the grid search object to the training data and find the optimal parameters\n",
    "grid_fit = cv.fit(X_train, y_train)\n",
    "\n",
    "cv.grid_scores_, cv.best_params_, cv.best_score_\n",
    "\n",
    "# Get the estimator and predict\n",
    "best_clf = grid_fit.best_estimator_\n",
    "#predictions = (best_clf.fit(X_train, y_train)).predict(X_test)\n",
    "\n",
    "best_predictions = best_clf.predict(X_val)"
   ]
  },
  {
   "cell_type": "code",
   "execution_count": 22,
   "metadata": {},
   "outputs": [
    {
     "data": {
      "text/plain": [
       "0.70385184921668986"
      ]
     },
     "execution_count": 22,
     "metadata": {},
     "output_type": "execute_result"
    }
   ],
   "source": [
    "roc_auc_score(y_val, best_predictions)"
   ]
  },
  {
   "cell_type": "markdown",
   "metadata": {},
   "source": [
    "### Test model"
   ]
  },
  {
   "cell_type": "code",
   "execution_count": 23,
   "metadata": {},
   "outputs": [],
   "source": [
    "alg_test = XGBRegressor(\n",
    "    learning_rate = 0.1,\n",
    "    n_estimators = 500,\n",
    "    reg_alpha = 0.05,\n",
    "    subsample = 0.6,\n",
    "    colsample_bytree = 0.7,\n",
    "    gamma = 0.2,\n",
    "    max_depth = 3,\n",
    "    min_child_weight = 2,\n",
    "    objective = 'binary:logistic',\n",
    "    scale_pos_weight = 1,\n",
    "    random_state = 42,\n",
    "    scoring = 'roc_auc')"
   ]
  },
  {
   "cell_type": "code",
   "execution_count": 24,
   "metadata": {},
   "outputs": [
    {
     "name": "stdout",
     "output_type": "stream",
     "text": [
      "The scikit-learn version is 0.19.1.\n"
     ]
    }
   ],
   "source": [
    "import sklearn\n",
    "print('The scikit-learn version is {}.'.format(sklearn.__version__))\n"
   ]
  },
  {
   "cell_type": "code",
   "execution_count": 25,
   "metadata": {},
   "outputs": [
    {
     "name": "stderr",
     "output_type": "stream",
     "text": [
      "/opt/conda/lib/python3.6/site-packages/sklearn/cross_validation.py:41: DeprecationWarning: This module was deprecated in version 0.18 in favor of the model_selection module into which all the refactored classes and functions are moved. Also note that the interface of the new CV iterators are different from that of this module. This module will be removed in 0.20.\n",
      "  \"This module will be removed in 0.20.\", DeprecationWarning)\n"
     ]
    },
    {
     "name": "stdout",
     "output_type": "stream",
     "text": [
      "[0.70385184921668986, 0.70385184921668986]\n"
     ]
    }
   ],
   "source": [
    "from sklearn.cross_validation import KFold\n",
    "from sklearn.model_selection import StratifiedKFold\n",
    "\n",
    "cv = StratifiedKFold(n_splits=2, shuffle=True, random_state=42)\n",
    "\n",
    "roc_score = []\n",
    "for train,test in cv.split(X_train,y_train):\n",
    "    preds = alg_test.fit(X_train,y_train)\n",
    "    predictions_test = preds.predict(X_val)\n",
    "    roc_score.append(roc_auc_score(y_val, predictions_test))\n",
    "    \n",
    "print(roc_score)"
   ]
  },
  {
   "cell_type": "markdown",
   "metadata": {},
   "source": [
    "## Final model"
   ]
  },
  {
   "cell_type": "code",
   "execution_count": 26,
   "metadata": {},
   "outputs": [
    {
     "name": "stdout",
     "output_type": "stream",
     "text": [
      "0.779217934978\n"
     ]
    }
   ],
   "source": [
    "clf_final = xgb.XGBRegressor(\n",
    "    objective = 'binary:logistic',\n",
    "    max_depth = 5,\n",
    "    min_child_weight = 2,\n",
    "    learning_rate = 0.01,    \n",
    "    reg_alpha = 0.05,\n",
    "    subsample = 0.6,\n",
    "    colsample_bytree = 0.7,\n",
    "    gamma = 0.2,    \n",
    "    scale_pos_weight = 1,\n",
    "    random_state = 42,\n",
    "    n_estimators = 500,\n",
    "    scoring = 'roc_auc')\n",
    "\n",
    "preds = clf_final.fit(X_train,y_train)\n",
    "predictions_test = preds.predict(X_val)\n",
    "print(roc_auc_score(y_val, predictions_test))"
   ]
  },
  {
   "cell_type": "code",
   "execution_count": 27,
   "metadata": {},
   "outputs": [],
   "source": [
    "feat_importance = clf_final.feature_importances_\n",
    "#feat_importance"
   ]
  },
  {
   "cell_type": "code",
   "execution_count": 28,
   "metadata": {},
   "outputs": [
    {
     "name": "stdout",
     "output_type": "stream",
     "text": [
      "['D19_SOZIALES' 'BALLRAUM' 'KBA05_KRSVAN' 'KBA13_SEG_GROSSRAUMVANS'\n",
      " 'D19_BANKEN_DIREKT']\n",
      "[ 0.0128045   0.00666407  0.00660378  0.00653423  0.0062638 ]\n"
     ]
    },
    {
     "data": {
      "image/png": "[encoded data removed]",
      "text/plain": [
       "<matplotlib.figure.Figure at 0x7f7ccd8d0828>"
      ]
     },
     "metadata": {
      "needs_background": "light"
     },
     "output_type": "display_data"
    }
   ],
   "source": [
    "num_feat = 5\n",
    "\n",
    "indices = np.argsort(feat_importance)[::-1]\n",
    "columns = X_train.columns.values[indices[:num_feat]]\n",
    "values = feat_importance[indices][:num_feat]\n",
    "\n",
    "#print((indices))\n",
    "print(columns)\n",
    "print(values)\n",
    "\n",
    "plt.title('Feature Importances')\n",
    "plt.barh(np.arange(num_feat), values, color='b', align='center', label = \"Feature Weight\")\n",
    "#plt.barh(np.arange(num_feat), np.cumsum(values), color='b', align='center',label = \"Cumsum Weight\")\n",
    "\n",
    "\n",
    "plt.yticks(np.arange(num_feat), columns)\n",
    "plt.xlabel('Relative Importance')\n",
    "plt.show()"
   ]
  },
  {
   "cell_type": "code",
   "execution_count": 29,
   "metadata": {},
   "outputs": [
    {
     "name": "stdout",
     "output_type": "stream",
     "text": [
      "D19_SOZIALES = 0.00372566\n",
      "BALLRAUM = 0.00207841\n",
      "KBA05_KRSVAN = 0.00340579\n",
      "KBA13_SEG_GROSSRAUMVANS = 0.00406621\n",
      "D19_BANKEN_DIREKT = 0.00314884\n"
     ]
    }
   ],
   "source": [
    "for name, importance in zip(columns, feat_importance):\n",
    "    print(name, \"=\", importance)"
   ]
  },
  {
   "cell_type": "code",
   "execution_count": 30,
   "metadata": {},
   "outputs": [
    {
     "data": {
      "text/plain": [
       "array([  1.,   5.,   2.,   3.,   4.,  nan,   0.])"
      ]
     },
     "execution_count": 30,
     "metadata": {},
     "output_type": "execute_result"
    }
   ],
   "source": [
    "mailout_train['D19_SOZIALES'].unique()"
   ]
  },
  {
   "cell_type": "markdown",
   "metadata": {},
   "source": [
    "## Analyse most important feature"
   ]
  },
  {
   "cell_type": "code",
   "execution_count": 34,
   "metadata": {},
   "outputs": [],
   "source": [
    "customers_pca = PCA(n_components=220).fit(customers)\n",
    "customers_pca_data = customers_pca.transform(customers)"
   ]
  },
  {
   "cell_type": "code",
   "execution_count": 35,
   "metadata": {},
   "outputs": [],
   "source": [
    "def get_feature_distance_in_cluster(cluster_number, feature):\n",
    "    \n",
    "    # find items in required clustered\n",
    "    final_items_in_cluster = customers_clustered[customers_clustered['Cluster'] == cluster_number].index\n",
    "    # get data of items in the identified cluster\n",
    "    final_reduced_data = reduced_customers.loc[final_items_in_cluster]\n",
    "    final_data_list = customers_pca.inverse_transform(final_reduced_data)\n",
    "    final_dataframe = pd.DataFrame(final_data_list, columns=customers.columns.values)\n",
    "    final_dataframe[feature].hist()"
   ]
  },
  {
   "cell_type": "code",
   "execution_count": 42,
   "metadata": {},
   "outputs": [
    {
     "data": {
      "image/png": "[encoded data removed]",
      "text/plain": [
       "<matplotlib.figure.Figure at 0x7f7ccddd0438>"
      ]
     },
     "metadata": {
      "needs_background": "light"
     },
     "output_type": "display_data"
    }
   ],
   "source": [
    "# get 10th cluster of customer data in comparison to general population\n",
    "get_feature_distance_in_cluster(10, 'D19_SOZIALES')"
   ]
  },
  {
   "cell_type": "code",
   "execution_count": 43,
   "metadata": {},
   "outputs": [
    {
     "data": {
      "image/png": "[encoded data removed]",
      "text/plain": [
       "<matplotlib.figure.Figure at 0x7f7ccddd02e8>"
      ]
     },
     "metadata": {
      "needs_background": "light"
     },
     "output_type": "display_data"
    }
   ],
   "source": [
    "# get 5th cluster of customer data in comparison to general population\n",
    "get_feature_distance_in_cluster(5, 'D19_SOZIALES')"
   ]
  },
  {
   "cell_type": "markdown",
   "metadata": {},
   "source": [
    "### To conclude my finding: \n",
    "From presented chart of cluster 10 & 5, I observed significance difference in feature \"D19_SOZIALES\". \n",
    "In Cluster 5 the over represented cluster of customer, there is a single bar and in Cluster 10 under represented cluster of customer there is a distribution and not a consolidation in 1 particular value."
   ]
  },
  {
   "cell_type": "markdown",
   "metadata": {},
   "source": [
    "## Part 3: Kaggle Competition\n",
    "Now that you've created a model to predict which individuals are most likely to respond to a mailout campaign, it's time to test that model in competition through Kaggle. If you click on the link here, you'll be taken to the competition page where, if you have a Kaggle account, you can enter. If you're one of the top performers, you may have the chance to be contacted by a hiring manager from Arvato or Bertelsmann for an interview!\n",
    "\n",
    "Your entry to the competition should be a CSV file with two columns. The first column should be a copy of \"LNR\", which acts as an ID number for each individual in the \"TEST\" partition. The second column, \"RESPONSE\", should be some measure of how likely each individual became a customer – this might not be a straightforward probability. As you should have found in Part 2, there is a large output class imbalance, where most individuals did not respond to the mailout. Thus, predicting individual classes and using accuracy does not seem to be an appropriate performance evaluation method. Instead, the competition will be using AUC to evaluate performance. The exact values of the \"RESPONSE\" column do not matter as much: only that the higher values try to capture as many of the actual customers as possible, early in the ROC curve sweep."
   ]
  },
  {
   "cell_type": "code",
   "execution_count": 44,
   "metadata": {},
   "outputs": [
    {
     "name": "stderr",
     "output_type": "stream",
     "text": [
      "/opt/conda/lib/python3.6/site-packages/IPython/core/interactiveshell.py:2785: DtypeWarning: Columns (18,19) have mixed types. Specify dtype option on import or set low_memory=False.\n",
      "  interactivity=interactivity, compiler=compiler, result=result)\n"
     ]
    }
   ],
   "source": [
    "mailout_test = pd.read_csv('../../data/Term2/capstone/arvato_data/Udacity_MAILOUT_052018_TEST.csv', sep=';')"
   ]
  },
  {
   "cell_type": "code",
   "execution_count": 45,
   "metadata": {},
   "outputs": [
    {
     "data": {
      "text/plain": [
       "['RESPONSE']"
      ]
     },
     "execution_count": 45,
     "metadata": {},
     "output_type": "execute_result"
    }
   ],
   "source": [
    "# make sure this dataset is not different\n",
    "missing = list(np.setdiff1d(mailout_train.columns, mailout_test.columns))\n",
    "missing"
   ]
  },
  {
   "cell_type": "code",
   "execution_count": 46,
   "metadata": {},
   "outputs": [
    {
     "name": "stdout",
     "output_type": "stream",
     "text": [
      "before preprocessing mailout_test.shape:  (42833, 366)\n",
      "shape after corr (42833, 253)\n",
      "shape after one-hot (42833, 300)\n",
      "shape after impute (42833, 300)\n",
      "shape after scaling (42833, 300)\n",
      "after preprocessing mailout_test_clean.shape:  (42833, 299)\n"
     ]
    }
   ],
   "source": [
    "print('before preprocessing mailout_test.shape: ', mailout_test.shape)\n",
    "mailout_test_clean = data_pre_processing(mailout_test, False)\n",
    "print('after preprocessing mailout_test_clean.shape: ', mailout_test_clean.shape)"
   ]
  },
  {
   "cell_type": "code",
   "execution_count": 47,
   "metadata": {},
   "outputs": [
    {
     "data": {
      "text/html": [
       "<div>\n",
       "<style scoped>\n",
       "    .dataframe tbody tr th:only-of-type {\n",
       "        vertical-align: middle;\n",
       "    }\n",
       "\n",
       "    .dataframe tbody tr th {\n",
       "        vertical-align: top;\n",
       "    }\n",
       "\n",
       "    .dataframe thead th {\n",
       "        text-align: right;\n",
       "    }\n",
       "</style>\n",
       "<table border=\"1\" class=\"dataframe\">\n",
       "  <thead>\n",
       "    <tr style=\"text-align: right;\">\n",
       "      <th></th>\n",
       "      <th>RESPONSE</th>\n",
       "    </tr>\n",
       "    <tr>\n",
       "      <th>LNR</th>\n",
       "      <th></th>\n",
       "    </tr>\n",
       "  </thead>\n",
       "  <tbody>\n",
       "    <tr>\n",
       "      <th>1754</th>\n",
       "      <td>0.034122</td>\n",
       "    </tr>\n",
       "    <tr>\n",
       "      <th>1770</th>\n",
       "      <td>0.031593</td>\n",
       "    </tr>\n",
       "    <tr>\n",
       "      <th>1465</th>\n",
       "      <td>0.008687</td>\n",
       "    </tr>\n",
       "    <tr>\n",
       "      <th>1470</th>\n",
       "      <td>0.008595</td>\n",
       "    </tr>\n",
       "    <tr>\n",
       "      <th>1478</th>\n",
       "      <td>0.013780</td>\n",
       "    </tr>\n",
       "    <tr>\n",
       "      <th>1782</th>\n",
       "      <td>0.006773</td>\n",
       "    </tr>\n",
       "    <tr>\n",
       "      <th>1485</th>\n",
       "      <td>0.007859</td>\n",
       "    </tr>\n",
       "    <tr>\n",
       "      <th>1519</th>\n",
       "      <td>0.028045</td>\n",
       "    </tr>\n",
       "    <tr>\n",
       "      <th>1835</th>\n",
       "      <td>0.023605</td>\n",
       "    </tr>\n",
       "    <tr>\n",
       "      <th>1522</th>\n",
       "      <td>0.008954</td>\n",
       "    </tr>\n",
       "  </tbody>\n",
       "</table>\n",
       "</div>"
      ],
      "text/plain": [
       "      RESPONSE\n",
       "LNR           \n",
       "1754  0.034122\n",
       "1770  0.031593\n",
       "1465  0.008687\n",
       "1470  0.008595\n",
       "1478  0.013780\n",
       "1782  0.006773\n",
       "1485  0.007859\n",
       "1519  0.028045\n",
       "1835  0.023605\n",
       "1522  0.008954"
      ]
     },
     "execution_count": 47,
     "metadata": {},
     "output_type": "execute_result"
    }
   ],
   "source": [
    "prediction = clf_final.predict(mailout_test_clean)\n",
    "df = pd.DataFrame(index=mailout_test['LNR'].astype('int32'), data=prediction)\n",
    "df.rename(columns={0: \"RESPONSE\"}, inplace=True)\n",
    "\n",
    "df.head(10)"
   ]
  },
  {
   "cell_type": "code",
   "execution_count": 48,
   "metadata": {},
   "outputs": [],
   "source": [
    "df.to_csv('submission.csv')"
   ]
  }
 ],
 "metadata": {
  "kernelspec": {
   "display_name": "Python 3",
   "language": "python",
   "name": "python3"
  },
  "language_info": {
   "codemirror_mode": {
    "name": "ipython",
    "version": 3
   },
   "file_extension": ".py",
   "mimetype": "text/x-python",
   "name": "python",
   "nbconvert_exporter": "python",
   "pygments_lexer": "ipython3",
   "version": "3.6.3"
  }
 },
 "nbformat": 4,
 "nbformat_minor": 2
}
